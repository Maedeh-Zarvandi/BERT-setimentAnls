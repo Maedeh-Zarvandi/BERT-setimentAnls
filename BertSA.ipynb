{
  "nbformat": 4,
  "nbformat_minor": 0,
  "metadata": {
    "colab": {
      "name": "Q3.ipynb",
      "provenance": [],
      "collapsed_sections": []
    },
    "kernelspec": {
      "display_name": "Python 3",
      "name": "python3"
    },
    "language_info": {
      "name": "python"
    },
    "widgets": {
      "application/vnd.jupyter.widget-state+json": {
        "102a839677ec41bb986564a2bdd548b7": {
          "model_module": "@jupyter-widgets/controls",
          "model_name": "HBoxModel",
          "state": {
            "_view_name": "HBoxView",
            "_dom_classes": [],
            "_model_name": "HBoxModel",
            "_view_module": "@jupyter-widgets/controls",
            "_model_module_version": "1.5.0",
            "_view_count": null,
            "_view_module_version": "1.5.0",
            "box_style": "",
            "layout": "IPY_MODEL_1199a5f7046148f49ee92d096f5e2f07",
            "_model_module": "@jupyter-widgets/controls",
            "children": [
              "IPY_MODEL_54b626e03df14cf2833f06f6a95bf91f",
              "IPY_MODEL_f9bd7fb0fafe4864a97d57ac09ad691b"
            ]
          }
        },
        "1199a5f7046148f49ee92d096f5e2f07": {
          "model_module": "@jupyter-widgets/base",
          "model_name": "LayoutModel",
          "state": {
            "_view_name": "LayoutView",
            "grid_template_rows": null,
            "right": null,
            "justify_content": null,
            "_view_module": "@jupyter-widgets/base",
            "overflow": null,
            "_model_module_version": "1.2.0",
            "_view_count": null,
            "flex_flow": null,
            "width": null,
            "min_width": null,
            "border": null,
            "align_items": null,
            "bottom": null,
            "_model_module": "@jupyter-widgets/base",
            "top": null,
            "grid_column": null,
            "overflow_y": null,
            "overflow_x": null,
            "grid_auto_flow": null,
            "grid_area": null,
            "grid_template_columns": null,
            "flex": null,
            "_model_name": "LayoutModel",
            "justify_items": null,
            "grid_row": null,
            "max_height": null,
            "align_content": null,
            "visibility": null,
            "align_self": null,
            "height": null,
            "min_height": null,
            "padding": null,
            "grid_auto_rows": null,
            "grid_gap": null,
            "max_width": null,
            "order": null,
            "_view_module_version": "1.2.0",
            "grid_template_areas": null,
            "object_position": null,
            "object_fit": null,
            "grid_auto_columns": null,
            "margin": null,
            "display": null,
            "left": null
          }
        },
        "54b626e03df14cf2833f06f6a95bf91f": {
          "model_module": "@jupyter-widgets/controls",
          "model_name": "FloatProgressModel",
          "state": {
            "_view_name": "ProgressView",
            "style": "IPY_MODEL_be96640298e140468504011dfc2956c2",
            "_dom_classes": [],
            "description": "Downloading: 100%",
            "_model_name": "FloatProgressModel",
            "bar_style": "success",
            "max": 433,
            "_view_module": "@jupyter-widgets/controls",
            "_model_module_version": "1.5.0",
            "value": 433,
            "_view_count": null,
            "_view_module_version": "1.5.0",
            "orientation": "horizontal",
            "min": 0,
            "description_tooltip": null,
            "_model_module": "@jupyter-widgets/controls",
            "layout": "IPY_MODEL_5b6fb45219f242b6b5a9666e0be33335"
          }
        },
        "f9bd7fb0fafe4864a97d57ac09ad691b": {
          "model_module": "@jupyter-widgets/controls",
          "model_name": "HTMLModel",
          "state": {
            "_view_name": "HTMLView",
            "style": "IPY_MODEL_2d215845dddd4fd6b7cec7ddd5b62d24",
            "_dom_classes": [],
            "description": "",
            "_model_name": "HTMLModel",
            "placeholder": "​",
            "_view_module": "@jupyter-widgets/controls",
            "_model_module_version": "1.5.0",
            "value": " 433/433 [00:10&lt;00:00, 40.5B/s]",
            "_view_count": null,
            "_view_module_version": "1.5.0",
            "description_tooltip": null,
            "_model_module": "@jupyter-widgets/controls",
            "layout": "IPY_MODEL_d7e7dc2b29a249468fb167f3dee5e799"
          }
        },
        "be96640298e140468504011dfc2956c2": {
          "model_module": "@jupyter-widgets/controls",
          "model_name": "ProgressStyleModel",
          "state": {
            "_view_name": "StyleView",
            "_model_name": "ProgressStyleModel",
            "description_width": "initial",
            "_view_module": "@jupyter-widgets/base",
            "_model_module_version": "1.5.0",
            "_view_count": null,
            "_view_module_version": "1.2.0",
            "bar_color": null,
            "_model_module": "@jupyter-widgets/controls"
          }
        },
        "5b6fb45219f242b6b5a9666e0be33335": {
          "model_module": "@jupyter-widgets/base",
          "model_name": "LayoutModel",
          "state": {
            "_view_name": "LayoutView",
            "grid_template_rows": null,
            "right": null,
            "justify_content": null,
            "_view_module": "@jupyter-widgets/base",
            "overflow": null,
            "_model_module_version": "1.2.0",
            "_view_count": null,
            "flex_flow": null,
            "width": null,
            "min_width": null,
            "border": null,
            "align_items": null,
            "bottom": null,
            "_model_module": "@jupyter-widgets/base",
            "top": null,
            "grid_column": null,
            "overflow_y": null,
            "overflow_x": null,
            "grid_auto_flow": null,
            "grid_area": null,
            "grid_template_columns": null,
            "flex": null,
            "_model_name": "LayoutModel",
            "justify_items": null,
            "grid_row": null,
            "max_height": null,
            "align_content": null,
            "visibility": null,
            "align_self": null,
            "height": null,
            "min_height": null,
            "padding": null,
            "grid_auto_rows": null,
            "grid_gap": null,
            "max_width": null,
            "order": null,
            "_view_module_version": "1.2.0",
            "grid_template_areas": null,
            "object_position": null,
            "object_fit": null,
            "grid_auto_columns": null,
            "margin": null,
            "display": null,
            "left": null
          }
        },
        "2d215845dddd4fd6b7cec7ddd5b62d24": {
          "model_module": "@jupyter-widgets/controls",
          "model_name": "DescriptionStyleModel",
          "state": {
            "_view_name": "StyleView",
            "_model_name": "DescriptionStyleModel",
            "description_width": "",
            "_view_module": "@jupyter-widgets/base",
            "_model_module_version": "1.5.0",
            "_view_count": null,
            "_view_module_version": "1.2.0",
            "_model_module": "@jupyter-widgets/controls"
          }
        },
        "d7e7dc2b29a249468fb167f3dee5e799": {
          "model_module": "@jupyter-widgets/base",
          "model_name": "LayoutModel",
          "state": {
            "_view_name": "LayoutView",
            "grid_template_rows": null,
            "right": null,
            "justify_content": null,
            "_view_module": "@jupyter-widgets/base",
            "overflow": null,
            "_model_module_version": "1.2.0",
            "_view_count": null,
            "flex_flow": null,
            "width": null,
            "min_width": null,
            "border": null,
            "align_items": null,
            "bottom": null,
            "_model_module": "@jupyter-widgets/base",
            "top": null,
            "grid_column": null,
            "overflow_y": null,
            "overflow_x": null,
            "grid_auto_flow": null,
            "grid_area": null,
            "grid_template_columns": null,
            "flex": null,
            "_model_name": "LayoutModel",
            "justify_items": null,
            "grid_row": null,
            "max_height": null,
            "align_content": null,
            "visibility": null,
            "align_self": null,
            "height": null,
            "min_height": null,
            "padding": null,
            "grid_auto_rows": null,
            "grid_gap": null,
            "max_width": null,
            "order": null,
            "_view_module_version": "1.2.0",
            "grid_template_areas": null,
            "object_position": null,
            "object_fit": null,
            "grid_auto_columns": null,
            "margin": null,
            "display": null,
            "left": null
          }
        },
        "ec6fce5a4dbb4c0a9b2d0a46bfc01544": {
          "model_module": "@jupyter-widgets/controls",
          "model_name": "HBoxModel",
          "state": {
            "_view_name": "HBoxView",
            "_dom_classes": [],
            "_model_name": "HBoxModel",
            "_view_module": "@jupyter-widgets/controls",
            "_model_module_version": "1.5.0",
            "_view_count": null,
            "_view_module_version": "1.5.0",
            "box_style": "",
            "layout": "IPY_MODEL_3826d97fb5814784a48dc339b987f422",
            "_model_module": "@jupyter-widgets/controls",
            "children": [
              "IPY_MODEL_d49f95a9c7744a13a65dce78b0db2b91",
              "IPY_MODEL_4fab6abdd3354956a86a5c603a6332dc"
            ]
          }
        },
        "3826d97fb5814784a48dc339b987f422": {
          "model_module": "@jupyter-widgets/base",
          "model_name": "LayoutModel",
          "state": {
            "_view_name": "LayoutView",
            "grid_template_rows": null,
            "right": null,
            "justify_content": null,
            "_view_module": "@jupyter-widgets/base",
            "overflow": null,
            "_model_module_version": "1.2.0",
            "_view_count": null,
            "flex_flow": null,
            "width": null,
            "min_width": null,
            "border": null,
            "align_items": null,
            "bottom": null,
            "_model_module": "@jupyter-widgets/base",
            "top": null,
            "grid_column": null,
            "overflow_y": null,
            "overflow_x": null,
            "grid_auto_flow": null,
            "grid_area": null,
            "grid_template_columns": null,
            "flex": null,
            "_model_name": "LayoutModel",
            "justify_items": null,
            "grid_row": null,
            "max_height": null,
            "align_content": null,
            "visibility": null,
            "align_self": null,
            "height": null,
            "min_height": null,
            "padding": null,
            "grid_auto_rows": null,
            "grid_gap": null,
            "max_width": null,
            "order": null,
            "_view_module_version": "1.2.0",
            "grid_template_areas": null,
            "object_position": null,
            "object_fit": null,
            "grid_auto_columns": null,
            "margin": null,
            "display": null,
            "left": null
          }
        },
        "d49f95a9c7744a13a65dce78b0db2b91": {
          "model_module": "@jupyter-widgets/controls",
          "model_name": "FloatProgressModel",
          "state": {
            "_view_name": "ProgressView",
            "style": "IPY_MODEL_7c9be2ac7df64411b02483583166417e",
            "_dom_classes": [],
            "description": "Downloading: 100%",
            "_model_name": "FloatProgressModel",
            "bar_style": "success",
            "max": 440473133,
            "_view_module": "@jupyter-widgets/controls",
            "_model_module_version": "1.5.0",
            "value": 440473133,
            "_view_count": null,
            "_view_module_version": "1.5.0",
            "orientation": "horizontal",
            "min": 0,
            "description_tooltip": null,
            "_model_module": "@jupyter-widgets/controls",
            "layout": "IPY_MODEL_20cc214361754ec5930b42a1288fb09b"
          }
        },
        "4fab6abdd3354956a86a5c603a6332dc": {
          "model_module": "@jupyter-widgets/controls",
          "model_name": "HTMLModel",
          "state": {
            "_view_name": "HTMLView",
            "style": "IPY_MODEL_5127821b08494f50a4d223696949e614",
            "_dom_classes": [],
            "description": "",
            "_model_name": "HTMLModel",
            "placeholder": "​",
            "_view_module": "@jupyter-widgets/controls",
            "_model_module_version": "1.5.0",
            "value": " 440M/440M [00:10&lt;00:00, 41.9MB/s]",
            "_view_count": null,
            "_view_module_version": "1.5.0",
            "description_tooltip": null,
            "_model_module": "@jupyter-widgets/controls",
            "layout": "IPY_MODEL_feb3dc59ae7d4888ba18d9e588e89cde"
          }
        },
        "7c9be2ac7df64411b02483583166417e": {
          "model_module": "@jupyter-widgets/controls",
          "model_name": "ProgressStyleModel",
          "state": {
            "_view_name": "StyleView",
            "_model_name": "ProgressStyleModel",
            "description_width": "initial",
            "_view_module": "@jupyter-widgets/base",
            "_model_module_version": "1.5.0",
            "_view_count": null,
            "_view_module_version": "1.2.0",
            "bar_color": null,
            "_model_module": "@jupyter-widgets/controls"
          }
        },
        "20cc214361754ec5930b42a1288fb09b": {
          "model_module": "@jupyter-widgets/base",
          "model_name": "LayoutModel",
          "state": {
            "_view_name": "LayoutView",
            "grid_template_rows": null,
            "right": null,
            "justify_content": null,
            "_view_module": "@jupyter-widgets/base",
            "overflow": null,
            "_model_module_version": "1.2.0",
            "_view_count": null,
            "flex_flow": null,
            "width": null,
            "min_width": null,
            "border": null,
            "align_items": null,
            "bottom": null,
            "_model_module": "@jupyter-widgets/base",
            "top": null,
            "grid_column": null,
            "overflow_y": null,
            "overflow_x": null,
            "grid_auto_flow": null,
            "grid_area": null,
            "grid_template_columns": null,
            "flex": null,
            "_model_name": "LayoutModel",
            "justify_items": null,
            "grid_row": null,
            "max_height": null,
            "align_content": null,
            "visibility": null,
            "align_self": null,
            "height": null,
            "min_height": null,
            "padding": null,
            "grid_auto_rows": null,
            "grid_gap": null,
            "max_width": null,
            "order": null,
            "_view_module_version": "1.2.0",
            "grid_template_areas": null,
            "object_position": null,
            "object_fit": null,
            "grid_auto_columns": null,
            "margin": null,
            "display": null,
            "left": null
          }
        },
        "5127821b08494f50a4d223696949e614": {
          "model_module": "@jupyter-widgets/controls",
          "model_name": "DescriptionStyleModel",
          "state": {
            "_view_name": "StyleView",
            "_model_name": "DescriptionStyleModel",
            "description_width": "",
            "_view_module": "@jupyter-widgets/base",
            "_model_module_version": "1.5.0",
            "_view_count": null,
            "_view_module_version": "1.2.0",
            "_model_module": "@jupyter-widgets/controls"
          }
        },
        "feb3dc59ae7d4888ba18d9e588e89cde": {
          "model_module": "@jupyter-widgets/base",
          "model_name": "LayoutModel",
          "state": {
            "_view_name": "LayoutView",
            "grid_template_rows": null,
            "right": null,
            "justify_content": null,
            "_view_module": "@jupyter-widgets/base",
            "overflow": null,
            "_model_module_version": "1.2.0",
            "_view_count": null,
            "flex_flow": null,
            "width": null,
            "min_width": null,
            "border": null,
            "align_items": null,
            "bottom": null,
            "_model_module": "@jupyter-widgets/base",
            "top": null,
            "grid_column": null,
            "overflow_y": null,
            "overflow_x": null,
            "grid_auto_flow": null,
            "grid_area": null,
            "grid_template_columns": null,
            "flex": null,
            "_model_name": "LayoutModel",
            "justify_items": null,
            "grid_row": null,
            "max_height": null,
            "align_content": null,
            "visibility": null,
            "align_self": null,
            "height": null,
            "min_height": null,
            "padding": null,
            "grid_auto_rows": null,
            "grid_gap": null,
            "max_width": null,
            "order": null,
            "_view_module_version": "1.2.0",
            "grid_template_areas": null,
            "object_position": null,
            "object_fit": null,
            "grid_auto_columns": null,
            "margin": null,
            "display": null,
            "left": null
          }
        },
        "f742adef05d744fe91658418aa81453e": {
          "model_module": "@jupyter-widgets/controls",
          "model_name": "HBoxModel",
          "state": {
            "_view_name": "HBoxView",
            "_dom_classes": [],
            "_model_name": "HBoxModel",
            "_view_module": "@jupyter-widgets/controls",
            "_model_module_version": "1.5.0",
            "_view_count": null,
            "_view_module_version": "1.5.0",
            "box_style": "",
            "layout": "IPY_MODEL_bd1586a832c9455780e5d573c6926a9a",
            "_model_module": "@jupyter-widgets/controls",
            "children": [
              "IPY_MODEL_4dc733913ce34662bd3eb017389a6872",
              "IPY_MODEL_43da7a2f6dc04dbea0939a840d21b749"
            ]
          }
        },
        "bd1586a832c9455780e5d573c6926a9a": {
          "model_module": "@jupyter-widgets/base",
          "model_name": "LayoutModel",
          "state": {
            "_view_name": "LayoutView",
            "grid_template_rows": null,
            "right": null,
            "justify_content": null,
            "_view_module": "@jupyter-widgets/base",
            "overflow": null,
            "_model_module_version": "1.2.0",
            "_view_count": null,
            "flex_flow": null,
            "width": null,
            "min_width": null,
            "border": null,
            "align_items": null,
            "bottom": null,
            "_model_module": "@jupyter-widgets/base",
            "top": null,
            "grid_column": null,
            "overflow_y": null,
            "overflow_x": null,
            "grid_auto_flow": null,
            "grid_area": null,
            "grid_template_columns": null,
            "flex": null,
            "_model_name": "LayoutModel",
            "justify_items": null,
            "grid_row": null,
            "max_height": null,
            "align_content": null,
            "visibility": null,
            "align_self": null,
            "height": null,
            "min_height": null,
            "padding": null,
            "grid_auto_rows": null,
            "grid_gap": null,
            "max_width": null,
            "order": null,
            "_view_module_version": "1.2.0",
            "grid_template_areas": null,
            "object_position": null,
            "object_fit": null,
            "grid_auto_columns": null,
            "margin": null,
            "display": null,
            "left": null
          }
        },
        "4dc733913ce34662bd3eb017389a6872": {
          "model_module": "@jupyter-widgets/controls",
          "model_name": "FloatProgressModel",
          "state": {
            "_view_name": "ProgressView",
            "style": "IPY_MODEL_245848f6bd6a42848d1dfc0f5239c0e6",
            "_dom_classes": [],
            "description": "Downloading: 100%",
            "_model_name": "FloatProgressModel",
            "bar_style": "success",
            "max": 231508,
            "_view_module": "@jupyter-widgets/controls",
            "_model_module_version": "1.5.0",
            "value": 231508,
            "_view_count": null,
            "_view_module_version": "1.5.0",
            "orientation": "horizontal",
            "min": 0,
            "description_tooltip": null,
            "_model_module": "@jupyter-widgets/controls",
            "layout": "IPY_MODEL_40d9e1cae09d4988b87228f6d16f388a"
          }
        },
        "43da7a2f6dc04dbea0939a840d21b749": {
          "model_module": "@jupyter-widgets/controls",
          "model_name": "HTMLModel",
          "state": {
            "_view_name": "HTMLView",
            "style": "IPY_MODEL_bd5f431f6e11462fb9158958961cd3d3",
            "_dom_classes": [],
            "description": "",
            "_model_name": "HTMLModel",
            "placeholder": "​",
            "_view_module": "@jupyter-widgets/controls",
            "_model_module_version": "1.5.0",
            "value": " 232k/232k [00:00&lt;00:00, 1.67MB/s]",
            "_view_count": null,
            "_view_module_version": "1.5.0",
            "description_tooltip": null,
            "_model_module": "@jupyter-widgets/controls",
            "layout": "IPY_MODEL_6b8bd642666e4ff3a8a58ccfbff86b90"
          }
        },
        "245848f6bd6a42848d1dfc0f5239c0e6": {
          "model_module": "@jupyter-widgets/controls",
          "model_name": "ProgressStyleModel",
          "state": {
            "_view_name": "StyleView",
            "_model_name": "ProgressStyleModel",
            "description_width": "initial",
            "_view_module": "@jupyter-widgets/base",
            "_model_module_version": "1.5.0",
            "_view_count": null,
            "_view_module_version": "1.2.0",
            "bar_color": null,
            "_model_module": "@jupyter-widgets/controls"
          }
        },
        "40d9e1cae09d4988b87228f6d16f388a": {
          "model_module": "@jupyter-widgets/base",
          "model_name": "LayoutModel",
          "state": {
            "_view_name": "LayoutView",
            "grid_template_rows": null,
            "right": null,
            "justify_content": null,
            "_view_module": "@jupyter-widgets/base",
            "overflow": null,
            "_model_module_version": "1.2.0",
            "_view_count": null,
            "flex_flow": null,
            "width": null,
            "min_width": null,
            "border": null,
            "align_items": null,
            "bottom": null,
            "_model_module": "@jupyter-widgets/base",
            "top": null,
            "grid_column": null,
            "overflow_y": null,
            "overflow_x": null,
            "grid_auto_flow": null,
            "grid_area": null,
            "grid_template_columns": null,
            "flex": null,
            "_model_name": "LayoutModel",
            "justify_items": null,
            "grid_row": null,
            "max_height": null,
            "align_content": null,
            "visibility": null,
            "align_self": null,
            "height": null,
            "min_height": null,
            "padding": null,
            "grid_auto_rows": null,
            "grid_gap": null,
            "max_width": null,
            "order": null,
            "_view_module_version": "1.2.0",
            "grid_template_areas": null,
            "object_position": null,
            "object_fit": null,
            "grid_auto_columns": null,
            "margin": null,
            "display": null,
            "left": null
          }
        },
        "bd5f431f6e11462fb9158958961cd3d3": {
          "model_module": "@jupyter-widgets/controls",
          "model_name": "DescriptionStyleModel",
          "state": {
            "_view_name": "StyleView",
            "_model_name": "DescriptionStyleModel",
            "description_width": "",
            "_view_module": "@jupyter-widgets/base",
            "_model_module_version": "1.5.0",
            "_view_count": null,
            "_view_module_version": "1.2.0",
            "_model_module": "@jupyter-widgets/controls"
          }
        },
        "6b8bd642666e4ff3a8a58ccfbff86b90": {
          "model_module": "@jupyter-widgets/base",
          "model_name": "LayoutModel",
          "state": {
            "_view_name": "LayoutView",
            "grid_template_rows": null,
            "right": null,
            "justify_content": null,
            "_view_module": "@jupyter-widgets/base",
            "overflow": null,
            "_model_module_version": "1.2.0",
            "_view_count": null,
            "flex_flow": null,
            "width": null,
            "min_width": null,
            "border": null,
            "align_items": null,
            "bottom": null,
            "_model_module": "@jupyter-widgets/base",
            "top": null,
            "grid_column": null,
            "overflow_y": null,
            "overflow_x": null,
            "grid_auto_flow": null,
            "grid_area": null,
            "grid_template_columns": null,
            "flex": null,
            "_model_name": "LayoutModel",
            "justify_items": null,
            "grid_row": null,
            "max_height": null,
            "align_content": null,
            "visibility": null,
            "align_self": null,
            "height": null,
            "min_height": null,
            "padding": null,
            "grid_auto_rows": null,
            "grid_gap": null,
            "max_width": null,
            "order": null,
            "_view_module_version": "1.2.0",
            "grid_template_areas": null,
            "object_position": null,
            "object_fit": null,
            "grid_auto_columns": null,
            "margin": null,
            "display": null,
            "left": null
          }
        },
        "65d186e6c4a843df8466f5107762d16b": {
          "model_module": "@jupyter-widgets/controls",
          "model_name": "HBoxModel",
          "state": {
            "_view_name": "HBoxView",
            "_dom_classes": [],
            "_model_name": "HBoxModel",
            "_view_module": "@jupyter-widgets/controls",
            "_model_module_version": "1.5.0",
            "_view_count": null,
            "_view_module_version": "1.5.0",
            "box_style": "",
            "layout": "IPY_MODEL_0062e948abda498ca5f3fac87230e869",
            "_model_module": "@jupyter-widgets/controls",
            "children": [
              "IPY_MODEL_9bb679325a434730a6467449d1df9d6a",
              "IPY_MODEL_19bcab2604184e11ab7868194aa7efd3"
            ]
          }
        },
        "0062e948abda498ca5f3fac87230e869": {
          "model_module": "@jupyter-widgets/base",
          "model_name": "LayoutModel",
          "state": {
            "_view_name": "LayoutView",
            "grid_template_rows": null,
            "right": null,
            "justify_content": null,
            "_view_module": "@jupyter-widgets/base",
            "overflow": null,
            "_model_module_version": "1.2.0",
            "_view_count": null,
            "flex_flow": null,
            "width": null,
            "min_width": null,
            "border": null,
            "align_items": null,
            "bottom": null,
            "_model_module": "@jupyter-widgets/base",
            "top": null,
            "grid_column": null,
            "overflow_y": null,
            "overflow_x": null,
            "grid_auto_flow": null,
            "grid_area": null,
            "grid_template_columns": null,
            "flex": null,
            "_model_name": "LayoutModel",
            "justify_items": null,
            "grid_row": null,
            "max_height": null,
            "align_content": null,
            "visibility": null,
            "align_self": null,
            "height": null,
            "min_height": null,
            "padding": null,
            "grid_auto_rows": null,
            "grid_gap": null,
            "max_width": null,
            "order": null,
            "_view_module_version": "1.2.0",
            "grid_template_areas": null,
            "object_position": null,
            "object_fit": null,
            "grid_auto_columns": null,
            "margin": null,
            "display": null,
            "left": null
          }
        },
        "9bb679325a434730a6467449d1df9d6a": {
          "model_module": "@jupyter-widgets/controls",
          "model_name": "FloatProgressModel",
          "state": {
            "_view_name": "ProgressView",
            "style": "IPY_MODEL_df409b8374a546c8a84184f786227cfd",
            "_dom_classes": [],
            "description": "Downloading: 100%",
            "_model_name": "FloatProgressModel",
            "bar_style": "success",
            "max": 28,
            "_view_module": "@jupyter-widgets/controls",
            "_model_module_version": "1.5.0",
            "value": 28,
            "_view_count": null,
            "_view_module_version": "1.5.0",
            "orientation": "horizontal",
            "min": 0,
            "description_tooltip": null,
            "_model_module": "@jupyter-widgets/controls",
            "layout": "IPY_MODEL_8f0c0e2b27df42c4b501f83fb9b75091"
          }
        },
        "19bcab2604184e11ab7868194aa7efd3": {
          "model_module": "@jupyter-widgets/controls",
          "model_name": "HTMLModel",
          "state": {
            "_view_name": "HTMLView",
            "style": "IPY_MODEL_06812eb636ad4b4e85b30f9cf0da71f5",
            "_dom_classes": [],
            "description": "",
            "_model_name": "HTMLModel",
            "placeholder": "​",
            "_view_module": "@jupyter-widgets/controls",
            "_model_module_version": "1.5.0",
            "value": " 28.0/28.0 [10:42&lt;00:00, 22.9s/B]",
            "_view_count": null,
            "_view_module_version": "1.5.0",
            "description_tooltip": null,
            "_model_module": "@jupyter-widgets/controls",
            "layout": "IPY_MODEL_1e8c218126114659ab12d02bffc2097c"
          }
        },
        "df409b8374a546c8a84184f786227cfd": {
          "model_module": "@jupyter-widgets/controls",
          "model_name": "ProgressStyleModel",
          "state": {
            "_view_name": "StyleView",
            "_model_name": "ProgressStyleModel",
            "description_width": "initial",
            "_view_module": "@jupyter-widgets/base",
            "_model_module_version": "1.5.0",
            "_view_count": null,
            "_view_module_version": "1.2.0",
            "bar_color": null,
            "_model_module": "@jupyter-widgets/controls"
          }
        },
        "8f0c0e2b27df42c4b501f83fb9b75091": {
          "model_module": "@jupyter-widgets/base",
          "model_name": "LayoutModel",
          "state": {
            "_view_name": "LayoutView",
            "grid_template_rows": null,
            "right": null,
            "justify_content": null,
            "_view_module": "@jupyter-widgets/base",
            "overflow": null,
            "_model_module_version": "1.2.0",
            "_view_count": null,
            "flex_flow": null,
            "width": null,
            "min_width": null,
            "border": null,
            "align_items": null,
            "bottom": null,
            "_model_module": "@jupyter-widgets/base",
            "top": null,
            "grid_column": null,
            "overflow_y": null,
            "overflow_x": null,
            "grid_auto_flow": null,
            "grid_area": null,
            "grid_template_columns": null,
            "flex": null,
            "_model_name": "LayoutModel",
            "justify_items": null,
            "grid_row": null,
            "max_height": null,
            "align_content": null,
            "visibility": null,
            "align_self": null,
            "height": null,
            "min_height": null,
            "padding": null,
            "grid_auto_rows": null,
            "grid_gap": null,
            "max_width": null,
            "order": null,
            "_view_module_version": "1.2.0",
            "grid_template_areas": null,
            "object_position": null,
            "object_fit": null,
            "grid_auto_columns": null,
            "margin": null,
            "display": null,
            "left": null
          }
        },
        "06812eb636ad4b4e85b30f9cf0da71f5": {
          "model_module": "@jupyter-widgets/controls",
          "model_name": "DescriptionStyleModel",
          "state": {
            "_view_name": "StyleView",
            "_model_name": "DescriptionStyleModel",
            "description_width": "",
            "_view_module": "@jupyter-widgets/base",
            "_model_module_version": "1.5.0",
            "_view_count": null,
            "_view_module_version": "1.2.0",
            "_model_module": "@jupyter-widgets/controls"
          }
        },
        "1e8c218126114659ab12d02bffc2097c": {
          "model_module": "@jupyter-widgets/base",
          "model_name": "LayoutModel",
          "state": {
            "_view_name": "LayoutView",
            "grid_template_rows": null,
            "right": null,
            "justify_content": null,
            "_view_module": "@jupyter-widgets/base",
            "overflow": null,
            "_model_module_version": "1.2.0",
            "_view_count": null,
            "flex_flow": null,
            "width": null,
            "min_width": null,
            "border": null,
            "align_items": null,
            "bottom": null,
            "_model_module": "@jupyter-widgets/base",
            "top": null,
            "grid_column": null,
            "overflow_y": null,
            "overflow_x": null,
            "grid_auto_flow": null,
            "grid_area": null,
            "grid_template_columns": null,
            "flex": null,
            "_model_name": "LayoutModel",
            "justify_items": null,
            "grid_row": null,
            "max_height": null,
            "align_content": null,
            "visibility": null,
            "align_self": null,
            "height": null,
            "min_height": null,
            "padding": null,
            "grid_auto_rows": null,
            "grid_gap": null,
            "max_width": null,
            "order": null,
            "_view_module_version": "1.2.0",
            "grid_template_areas": null,
            "object_position": null,
            "object_fit": null,
            "grid_auto_columns": null,
            "margin": null,
            "display": null,
            "left": null
          }
        },
        "ca68b5887a5245dab9d4d40ae52a9336": {
          "model_module": "@jupyter-widgets/controls",
          "model_name": "HBoxModel",
          "state": {
            "_view_name": "HBoxView",
            "_dom_classes": [],
            "_model_name": "HBoxModel",
            "_view_module": "@jupyter-widgets/controls",
            "_model_module_version": "1.5.0",
            "_view_count": null,
            "_view_module_version": "1.5.0",
            "box_style": "",
            "layout": "IPY_MODEL_f9a997365c6c43bdbc0bda9bd7819ef9",
            "_model_module": "@jupyter-widgets/controls",
            "children": [
              "IPY_MODEL_ac47bbfef8694d498b285bbc5c4ad3f9",
              "IPY_MODEL_c1bbdcfb4f134c6c9fec39951275b358"
            ]
          }
        },
        "f9a997365c6c43bdbc0bda9bd7819ef9": {
          "model_module": "@jupyter-widgets/base",
          "model_name": "LayoutModel",
          "state": {
            "_view_name": "LayoutView",
            "grid_template_rows": null,
            "right": null,
            "justify_content": null,
            "_view_module": "@jupyter-widgets/base",
            "overflow": null,
            "_model_module_version": "1.2.0",
            "_view_count": null,
            "flex_flow": null,
            "width": null,
            "min_width": null,
            "border": null,
            "align_items": null,
            "bottom": null,
            "_model_module": "@jupyter-widgets/base",
            "top": null,
            "grid_column": null,
            "overflow_y": null,
            "overflow_x": null,
            "grid_auto_flow": null,
            "grid_area": null,
            "grid_template_columns": null,
            "flex": null,
            "_model_name": "LayoutModel",
            "justify_items": null,
            "grid_row": null,
            "max_height": null,
            "align_content": null,
            "visibility": null,
            "align_self": null,
            "height": null,
            "min_height": null,
            "padding": null,
            "grid_auto_rows": null,
            "grid_gap": null,
            "max_width": null,
            "order": null,
            "_view_module_version": "1.2.0",
            "grid_template_areas": null,
            "object_position": null,
            "object_fit": null,
            "grid_auto_columns": null,
            "margin": null,
            "display": null,
            "left": null
          }
        },
        "ac47bbfef8694d498b285bbc5c4ad3f9": {
          "model_module": "@jupyter-widgets/controls",
          "model_name": "FloatProgressModel",
          "state": {
            "_view_name": "ProgressView",
            "style": "IPY_MODEL_2e149374d6704562be122ae69a3c6886",
            "_dom_classes": [],
            "description": "Downloading: 100%",
            "_model_name": "FloatProgressModel",
            "bar_style": "success",
            "max": 466062,
            "_view_module": "@jupyter-widgets/controls",
            "_model_module_version": "1.5.0",
            "value": 466062,
            "_view_count": null,
            "_view_module_version": "1.5.0",
            "orientation": "horizontal",
            "min": 0,
            "description_tooltip": null,
            "_model_module": "@jupyter-widgets/controls",
            "layout": "IPY_MODEL_4b630372384646078a27dc87c0c90028"
          }
        },
        "c1bbdcfb4f134c6c9fec39951275b358": {
          "model_module": "@jupyter-widgets/controls",
          "model_name": "HTMLModel",
          "state": {
            "_view_name": "HTMLView",
            "style": "IPY_MODEL_2bb32fd88e954767b4b435e603e4c600",
            "_dom_classes": [],
            "description": "",
            "_model_name": "HTMLModel",
            "placeholder": "​",
            "_view_module": "@jupyter-widgets/controls",
            "_model_module_version": "1.5.0",
            "value": " 466k/466k [00:00&lt;00:00, 5.82MB/s]",
            "_view_count": null,
            "_view_module_version": "1.5.0",
            "description_tooltip": null,
            "_model_module": "@jupyter-widgets/controls",
            "layout": "IPY_MODEL_4aaefb3c50d84f938090b8569b7b9fb4"
          }
        },
        "2e149374d6704562be122ae69a3c6886": {
          "model_module": "@jupyter-widgets/controls",
          "model_name": "ProgressStyleModel",
          "state": {
            "_view_name": "StyleView",
            "_model_name": "ProgressStyleModel",
            "description_width": "initial",
            "_view_module": "@jupyter-widgets/base",
            "_model_module_version": "1.5.0",
            "_view_count": null,
            "_view_module_version": "1.2.0",
            "bar_color": null,
            "_model_module": "@jupyter-widgets/controls"
          }
        },
        "4b630372384646078a27dc87c0c90028": {
          "model_module": "@jupyter-widgets/base",
          "model_name": "LayoutModel",
          "state": {
            "_view_name": "LayoutView",
            "grid_template_rows": null,
            "right": null,
            "justify_content": null,
            "_view_module": "@jupyter-widgets/base",
            "overflow": null,
            "_model_module_version": "1.2.0",
            "_view_count": null,
            "flex_flow": null,
            "width": null,
            "min_width": null,
            "border": null,
            "align_items": null,
            "bottom": null,
            "_model_module": "@jupyter-widgets/base",
            "top": null,
            "grid_column": null,
            "overflow_y": null,
            "overflow_x": null,
            "grid_auto_flow": null,
            "grid_area": null,
            "grid_template_columns": null,
            "flex": null,
            "_model_name": "LayoutModel",
            "justify_items": null,
            "grid_row": null,
            "max_height": null,
            "align_content": null,
            "visibility": null,
            "align_self": null,
            "height": null,
            "min_height": null,
            "padding": null,
            "grid_auto_rows": null,
            "grid_gap": null,
            "max_width": null,
            "order": null,
            "_view_module_version": "1.2.0",
            "grid_template_areas": null,
            "object_position": null,
            "object_fit": null,
            "grid_auto_columns": null,
            "margin": null,
            "display": null,
            "left": null
          }
        },
        "2bb32fd88e954767b4b435e603e4c600": {
          "model_module": "@jupyter-widgets/controls",
          "model_name": "DescriptionStyleModel",
          "state": {
            "_view_name": "StyleView",
            "_model_name": "DescriptionStyleModel",
            "description_width": "",
            "_view_module": "@jupyter-widgets/base",
            "_model_module_version": "1.5.0",
            "_view_count": null,
            "_view_module_version": "1.2.0",
            "_model_module": "@jupyter-widgets/controls"
          }
        },
        "4aaefb3c50d84f938090b8569b7b9fb4": {
          "model_module": "@jupyter-widgets/base",
          "model_name": "LayoutModel",
          "state": {
            "_view_name": "LayoutView",
            "grid_template_rows": null,
            "right": null,
            "justify_content": null,
            "_view_module": "@jupyter-widgets/base",
            "overflow": null,
            "_model_module_version": "1.2.0",
            "_view_count": null,
            "flex_flow": null,
            "width": null,
            "min_width": null,
            "border": null,
            "align_items": null,
            "bottom": null,
            "_model_module": "@jupyter-widgets/base",
            "top": null,
            "grid_column": null,
            "overflow_y": null,
            "overflow_x": null,
            "grid_auto_flow": null,
            "grid_area": null,
            "grid_template_columns": null,
            "flex": null,
            "_model_name": "LayoutModel",
            "justify_items": null,
            "grid_row": null,
            "max_height": null,
            "align_content": null,
            "visibility": null,
            "align_self": null,
            "height": null,
            "min_height": null,
            "padding": null,
            "grid_auto_rows": null,
            "grid_gap": null,
            "max_width": null,
            "order": null,
            "_view_module_version": "1.2.0",
            "grid_template_areas": null,
            "object_position": null,
            "object_fit": null,
            "grid_auto_columns": null,
            "margin": null,
            "display": null,
            "left": null
          }
        },
        "6a58f31e956847729dc9a806b197c3d3": {
          "model_module": "@jupyter-widgets/controls",
          "model_name": "HBoxModel",
          "state": {
            "_dom_classes": [],
            "_model_module": "@jupyter-widgets/controls",
            "_model_module_version": "1.5.0",
            "_model_name": "HBoxModel",
            "_view_count": null,
            "_view_module": "@jupyter-widgets/controls",
            "_view_module_version": "1.5.0",
            "_view_name": "HBoxView",
            "box_style": "",
            "children": [
              "IPY_MODEL_0e83025df98b4610a7d354dfd30aefe4",
              "IPY_MODEL_d08e78e5599f47da97fd72586e26b690"
            ],
            "layout": "IPY_MODEL_d1a0d04954694e878ca865357c069a7a"
          }
        },
        "0e83025df98b4610a7d354dfd30aefe4": {
          "model_module": "@jupyter-widgets/controls",
          "model_name": "FloatProgressModel",
          "state": {
            "_dom_classes": [],
            "_model_module": "@jupyter-widgets/controls",
            "_model_module_version": "1.5.0",
            "_model_name": "FloatProgressModel",
            "_view_count": null,
            "_view_module": "@jupyter-widgets/controls",
            "_view_module_version": "1.5.0",
            "_view_name": "ProgressView",
            "bar_style": "success",
            "description": "Downloading: 100%",
            "description_tooltip": null,
            "layout": "IPY_MODEL_738a1f724ce343ab97ccd449c4a070c5",
            "max": 1142,
            "min": 0,
            "orientation": "horizontal",
            "style": "IPY_MODEL_09da9976496c439a966e74c7617849ff",
            "value": 1142
          }
        },
        "d08e78e5599f47da97fd72586e26b690": {
          "model_module": "@jupyter-widgets/controls",
          "model_name": "HTMLModel",
          "state": {
            "_dom_classes": [],
            "_model_module": "@jupyter-widgets/controls",
            "_model_module_version": "1.5.0",
            "_model_name": "HTMLModel",
            "_view_count": null,
            "_view_module": "@jupyter-widgets/controls",
            "_view_module_version": "1.5.0",
            "_view_name": "HTMLView",
            "description": "",
            "description_tooltip": null,
            "layout": "IPY_MODEL_1cd02e3d72764118ac1d0ed7b2517b19",
            "placeholder": "​",
            "style": "IPY_MODEL_43f25390469049f8aaee3184ce1e75e9",
            "value": " 1.14k/1.14k [00:00&lt;00:00, 13.6kB/s]"
          }
        },
        "d1a0d04954694e878ca865357c069a7a": {
          "model_module": "@jupyter-widgets/base",
          "model_name": "LayoutModel",
          "state": {
            "_model_module": "@jupyter-widgets/base",
            "_model_module_version": "1.2.0",
            "_model_name": "LayoutModel",
            "_view_count": null,
            "_view_module": "@jupyter-widgets/base",
            "_view_module_version": "1.2.0",
            "_view_name": "LayoutView",
            "align_content": null,
            "align_items": null,
            "align_self": null,
            "border": null,
            "bottom": null,
            "display": null,
            "flex": null,
            "flex_flow": null,
            "grid_area": null,
            "grid_auto_columns": null,
            "grid_auto_flow": null,
            "grid_auto_rows": null,
            "grid_column": null,
            "grid_gap": null,
            "grid_row": null,
            "grid_template_areas": null,
            "grid_template_columns": null,
            "grid_template_rows": null,
            "height": null,
            "justify_content": null,
            "justify_items": null,
            "left": null,
            "margin": null,
            "max_height": null,
            "max_width": null,
            "min_height": null,
            "min_width": null,
            "object_fit": null,
            "object_position": null,
            "order": null,
            "overflow": null,
            "overflow_x": null,
            "overflow_y": null,
            "padding": null,
            "right": null,
            "top": null,
            "visibility": null,
            "width": null
          }
        },
        "738a1f724ce343ab97ccd449c4a070c5": {
          "model_module": "@jupyter-widgets/base",
          "model_name": "LayoutModel",
          "state": {
            "_model_module": "@jupyter-widgets/base",
            "_model_module_version": "1.2.0",
            "_model_name": "LayoutModel",
            "_view_count": null,
            "_view_module": "@jupyter-widgets/base",
            "_view_module_version": "1.2.0",
            "_view_name": "LayoutView",
            "align_content": null,
            "align_items": null,
            "align_self": null,
            "border": null,
            "bottom": null,
            "display": null,
            "flex": null,
            "flex_flow": null,
            "grid_area": null,
            "grid_auto_columns": null,
            "grid_auto_flow": null,
            "grid_auto_rows": null,
            "grid_column": null,
            "grid_gap": null,
            "grid_row": null,
            "grid_template_areas": null,
            "grid_template_columns": null,
            "grid_template_rows": null,
            "height": null,
            "justify_content": null,
            "justify_items": null,
            "left": null,
            "margin": null,
            "max_height": null,
            "max_width": null,
            "min_height": null,
            "min_width": null,
            "object_fit": null,
            "object_position": null,
            "order": null,
            "overflow": null,
            "overflow_x": null,
            "overflow_y": null,
            "padding": null,
            "right": null,
            "top": null,
            "visibility": null,
            "width": null
          }
        },
        "09da9976496c439a966e74c7617849ff": {
          "model_module": "@jupyter-widgets/controls",
          "model_name": "ProgressStyleModel",
          "state": {
            "_model_module": "@jupyter-widgets/controls",
            "_model_module_version": "1.5.0",
            "_model_name": "ProgressStyleModel",
            "_view_count": null,
            "_view_module": "@jupyter-widgets/base",
            "_view_module_version": "1.2.0",
            "_view_name": "StyleView",
            "bar_color": null,
            "description_width": "initial"
          }
        },
        "1cd02e3d72764118ac1d0ed7b2517b19": {
          "model_module": "@jupyter-widgets/base",
          "model_name": "LayoutModel",
          "state": {
            "_model_module": "@jupyter-widgets/base",
            "_model_module_version": "1.2.0",
            "_model_name": "LayoutModel",
            "_view_count": null,
            "_view_module": "@jupyter-widgets/base",
            "_view_module_version": "1.2.0",
            "_view_name": "LayoutView",
            "align_content": null,
            "align_items": null,
            "align_self": null,
            "border": null,
            "bottom": null,
            "display": null,
            "flex": null,
            "flex_flow": null,
            "grid_area": null,
            "grid_auto_columns": null,
            "grid_auto_flow": null,
            "grid_auto_rows": null,
            "grid_column": null,
            "grid_gap": null,
            "grid_row": null,
            "grid_template_areas": null,
            "grid_template_columns": null,
            "grid_template_rows": null,
            "height": null,
            "justify_content": null,
            "justify_items": null,
            "left": null,
            "margin": null,
            "max_height": null,
            "max_width": null,
            "min_height": null,
            "min_width": null,
            "object_fit": null,
            "object_position": null,
            "order": null,
            "overflow": null,
            "overflow_x": null,
            "overflow_y": null,
            "padding": null,
            "right": null,
            "top": null,
            "visibility": null,
            "width": null
          }
        },
        "43f25390469049f8aaee3184ce1e75e9": {
          "model_module": "@jupyter-widgets/controls",
          "model_name": "DescriptionStyleModel",
          "state": {
            "_model_module": "@jupyter-widgets/controls",
            "_model_module_version": "1.5.0",
            "_model_name": "DescriptionStyleModel",
            "_view_count": null,
            "_view_module": "@jupyter-widgets/base",
            "_view_module_version": "1.2.0",
            "_view_name": "StyleView",
            "description_width": ""
          }
        },
        "b72b3150339940e19fa58675662b10d8": {
          "model_module": "@jupyter-widgets/controls",
          "model_name": "HBoxModel",
          "state": {
            "_dom_classes": [],
            "_model_module": "@jupyter-widgets/controls",
            "_model_module_version": "1.5.0",
            "_model_name": "HBoxModel",
            "_view_count": null,
            "_view_module": "@jupyter-widgets/controls",
            "_view_module_version": "1.5.0",
            "_view_name": "HBoxView",
            "box_style": "",
            "children": [
              "IPY_MODEL_ad72af46c8c140ef83587cedddde8a4f",
              "IPY_MODEL_5fdf1fe7dbe04eb69799c54915e80766"
            ],
            "layout": "IPY_MODEL_aa9ecabb0722473393ece85bf3d53b98"
          }
        },
        "ad72af46c8c140ef83587cedddde8a4f": {
          "model_module": "@jupyter-widgets/controls",
          "model_name": "FloatProgressModel",
          "state": {
            "_dom_classes": [],
            "_model_module": "@jupyter-widgets/controls",
            "_model_module_version": "1.5.0",
            "_model_name": "FloatProgressModel",
            "_view_count": null,
            "_view_module": "@jupyter-widgets/controls",
            "_view_module_version": "1.5.0",
            "_view_name": "ProgressView",
            "bar_style": "success",
            "description": "Downloading: 100%",
            "description_tooltip": null,
            "layout": "IPY_MODEL_d9123f0cddda4529ae205808557a27d7",
            "max": 2275437102,
            "min": 0,
            "orientation": "horizontal",
            "style": "IPY_MODEL_fccac8eea854460fb941e46e619b9b92",
            "value": 2275437102
          }
        },
        "5fdf1fe7dbe04eb69799c54915e80766": {
          "model_module": "@jupyter-widgets/controls",
          "model_name": "HTMLModel",
          "state": {
            "_dom_classes": [],
            "_model_module": "@jupyter-widgets/controls",
            "_model_module_version": "1.5.0",
            "_model_name": "HTMLModel",
            "_view_count": null,
            "_view_module": "@jupyter-widgets/controls",
            "_view_module_version": "1.5.0",
            "_view_name": "HTMLView",
            "description": "",
            "description_tooltip": null,
            "layout": "IPY_MODEL_fdf0227663d84d0080d5fe83b3e272b9",
            "placeholder": "​",
            "style": "IPY_MODEL_a965955a034b459fba358af8573cb9b6",
            "value": " 2.28G/2.28G [01:14&lt;00:00, 30.4MB/s]"
          }
        },
        "aa9ecabb0722473393ece85bf3d53b98": {
          "model_module": "@jupyter-widgets/base",
          "model_name": "LayoutModel",
          "state": {
            "_model_module": "@jupyter-widgets/base",
            "_model_module_version": "1.2.0",
            "_model_name": "LayoutModel",
            "_view_count": null,
            "_view_module": "@jupyter-widgets/base",
            "_view_module_version": "1.2.0",
            "_view_name": "LayoutView",
            "align_content": null,
            "align_items": null,
            "align_self": null,
            "border": null,
            "bottom": null,
            "display": null,
            "flex": null,
            "flex_flow": null,
            "grid_area": null,
            "grid_auto_columns": null,
            "grid_auto_flow": null,
            "grid_auto_rows": null,
            "grid_column": null,
            "grid_gap": null,
            "grid_row": null,
            "grid_template_areas": null,
            "grid_template_columns": null,
            "grid_template_rows": null,
            "height": null,
            "justify_content": null,
            "justify_items": null,
            "left": null,
            "margin": null,
            "max_height": null,
            "max_width": null,
            "min_height": null,
            "min_width": null,
            "object_fit": null,
            "object_position": null,
            "order": null,
            "overflow": null,
            "overflow_x": null,
            "overflow_y": null,
            "padding": null,
            "right": null,
            "top": null,
            "visibility": null,
            "width": null
          }
        },
        "d9123f0cddda4529ae205808557a27d7": {
          "model_module": "@jupyter-widgets/base",
          "model_name": "LayoutModel",
          "state": {
            "_model_module": "@jupyter-widgets/base",
            "_model_module_version": "1.2.0",
            "_model_name": "LayoutModel",
            "_view_count": null,
            "_view_module": "@jupyter-widgets/base",
            "_view_module_version": "1.2.0",
            "_view_name": "LayoutView",
            "align_content": null,
            "align_items": null,
            "align_self": null,
            "border": null,
            "bottom": null,
            "display": null,
            "flex": null,
            "flex_flow": null,
            "grid_area": null,
            "grid_auto_columns": null,
            "grid_auto_flow": null,
            "grid_auto_rows": null,
            "grid_column": null,
            "grid_gap": null,
            "grid_row": null,
            "grid_template_areas": null,
            "grid_template_columns": null,
            "grid_template_rows": null,
            "height": null,
            "justify_content": null,
            "justify_items": null,
            "left": null,
            "margin": null,
            "max_height": null,
            "max_width": null,
            "min_height": null,
            "min_width": null,
            "object_fit": null,
            "object_position": null,
            "order": null,
            "overflow": null,
            "overflow_x": null,
            "overflow_y": null,
            "padding": null,
            "right": null,
            "top": null,
            "visibility": null,
            "width": null
          }
        },
        "fccac8eea854460fb941e46e619b9b92": {
          "model_module": "@jupyter-widgets/controls",
          "model_name": "ProgressStyleModel",
          "state": {
            "_model_module": "@jupyter-widgets/controls",
            "_model_module_version": "1.5.0",
            "_model_name": "ProgressStyleModel",
            "_view_count": null,
            "_view_module": "@jupyter-widgets/base",
            "_view_module_version": "1.2.0",
            "_view_name": "StyleView",
            "bar_color": null,
            "description_width": "initial"
          }
        },
        "fdf0227663d84d0080d5fe83b3e272b9": {
          "model_module": "@jupyter-widgets/base",
          "model_name": "LayoutModel",
          "state": {
            "_model_module": "@jupyter-widgets/base",
            "_model_module_version": "1.2.0",
            "_model_name": "LayoutModel",
            "_view_count": null,
            "_view_module": "@jupyter-widgets/base",
            "_view_module_version": "1.2.0",
            "_view_name": "LayoutView",
            "align_content": null,
            "align_items": null,
            "align_self": null,
            "border": null,
            "bottom": null,
            "display": null,
            "flex": null,
            "flex_flow": null,
            "grid_area": null,
            "grid_auto_columns": null,
            "grid_auto_flow": null,
            "grid_auto_rows": null,
            "grid_column": null,
            "grid_gap": null,
            "grid_row": null,
            "grid_template_areas": null,
            "grid_template_columns": null,
            "grid_template_rows": null,
            "height": null,
            "justify_content": null,
            "justify_items": null,
            "left": null,
            "margin": null,
            "max_height": null,
            "max_width": null,
            "min_height": null,
            "min_width": null,
            "object_fit": null,
            "object_position": null,
            "order": null,
            "overflow": null,
            "overflow_x": null,
            "overflow_y": null,
            "padding": null,
            "right": null,
            "top": null,
            "visibility": null,
            "width": null
          }
        },
        "a965955a034b459fba358af8573cb9b6": {
          "model_module": "@jupyter-widgets/controls",
          "model_name": "DescriptionStyleModel",
          "state": {
            "_model_module": "@jupyter-widgets/controls",
            "_model_module_version": "1.5.0",
            "_model_name": "DescriptionStyleModel",
            "_view_count": null,
            "_view_module": "@jupyter-widgets/base",
            "_view_module_version": "1.2.0",
            "_view_name": "StyleView",
            "description_width": ""
          }
        }
      }
    },
    "accelerator": "GPU"
  },
  "cells": [
    {
      "cell_type": "code",
      "metadata": {
        "colab": {
          "base_uri": "https://localhost:8080/"
        },
        "id": "xQF59HJc5gkl",
        "outputId": "7eb2673a-1531-4c92-d051-53de26b45434"
      },
      "source": [
        "!pip install transformers"
      ],
      "execution_count": 1,
      "outputs": [
        {
          "output_type": "stream",
          "text": [
            "Collecting transformers\n",
            "\u001b[?25l  Downloading https://files.pythonhosted.org/packages/d8/b2/57495b5309f09fa501866e225c84532d1fd89536ea62406b2181933fb418/transformers-4.5.1-py3-none-any.whl (2.1MB)\n",
            "\r\u001b[K     |▏                               | 10kB 20.0MB/s eta 0:00:01\r\u001b[K     |▎                               | 20kB 25.9MB/s eta 0:00:01\r\u001b[K     |▌                               | 30kB 19.6MB/s eta 0:00:01\r\u001b[K     |▋                               | 40kB 18.2MB/s eta 0:00:01\r\u001b[K     |▉                               | 51kB 16.3MB/s eta 0:00:01\r\u001b[K     |█                               | 61kB 13.3MB/s eta 0:00:01\r\u001b[K     |█▏                              | 71kB 13.6MB/s eta 0:00:01\r\u001b[K     |█▎                              | 81kB 13.6MB/s eta 0:00:01\r\u001b[K     |█▍                              | 92kB 13.1MB/s eta 0:00:01\r\u001b[K     |█▋                              | 102kB 13.4MB/s eta 0:00:01\r\u001b[K     |█▊                              | 112kB 13.4MB/s eta 0:00:01\r\u001b[K     |██                              | 122kB 13.4MB/s eta 0:00:01\r\u001b[K     |██                              | 133kB 13.4MB/s eta 0:00:01\r\u001b[K     |██▎                             | 143kB 13.4MB/s eta 0:00:01\r\u001b[K     |██▍                             | 153kB 13.4MB/s eta 0:00:01\r\u001b[K     |██▌                             | 163kB 13.4MB/s eta 0:00:01\r\u001b[K     |██▊                             | 174kB 13.4MB/s eta 0:00:01\r\u001b[K     |██▉                             | 184kB 13.4MB/s eta 0:00:01\r\u001b[K     |███                             | 194kB 13.4MB/s eta 0:00:01\r\u001b[K     |███▏                            | 204kB 13.4MB/s eta 0:00:01\r\u001b[K     |███▍                            | 215kB 13.4MB/s eta 0:00:01\r\u001b[K     |███▌                            | 225kB 13.4MB/s eta 0:00:01\r\u001b[K     |███▋                            | 235kB 13.4MB/s eta 0:00:01\r\u001b[K     |███▉                            | 245kB 13.4MB/s eta 0:00:01\r\u001b[K     |████                            | 256kB 13.4MB/s eta 0:00:01\r\u001b[K     |████▏                           | 266kB 13.4MB/s eta 0:00:01\r\u001b[K     |████▎                           | 276kB 13.4MB/s eta 0:00:01\r\u001b[K     |████▌                           | 286kB 13.4MB/s eta 0:00:01\r\u001b[K     |████▋                           | 296kB 13.4MB/s eta 0:00:01\r\u001b[K     |████▊                           | 307kB 13.4MB/s eta 0:00:01\r\u001b[K     |█████                           | 317kB 13.4MB/s eta 0:00:01\r\u001b[K     |█████                           | 327kB 13.4MB/s eta 0:00:01\r\u001b[K     |█████▎                          | 337kB 13.4MB/s eta 0:00:01\r\u001b[K     |█████▍                          | 348kB 13.4MB/s eta 0:00:01\r\u001b[K     |█████▋                          | 358kB 13.4MB/s eta 0:00:01\r\u001b[K     |█████▊                          | 368kB 13.4MB/s eta 0:00:01\r\u001b[K     |█████▉                          | 378kB 13.4MB/s eta 0:00:01\r\u001b[K     |██████                          | 389kB 13.4MB/s eta 0:00:01\r\u001b[K     |██████▏                         | 399kB 13.4MB/s eta 0:00:01\r\u001b[K     |██████▍                         | 409kB 13.4MB/s eta 0:00:01\r\u001b[K     |██████▌                         | 419kB 13.4MB/s eta 0:00:01\r\u001b[K     |██████▊                         | 430kB 13.4MB/s eta 0:00:01\r\u001b[K     |██████▉                         | 440kB 13.4MB/s eta 0:00:01\r\u001b[K     |███████                         | 450kB 13.4MB/s eta 0:00:01\r\u001b[K     |███████▏                        | 460kB 13.4MB/s eta 0:00:01\r\u001b[K     |███████▎                        | 471kB 13.4MB/s eta 0:00:01\r\u001b[K     |███████▌                        | 481kB 13.4MB/s eta 0:00:01\r\u001b[K     |███████▋                        | 491kB 13.4MB/s eta 0:00:01\r\u001b[K     |███████▉                        | 501kB 13.4MB/s eta 0:00:01\r\u001b[K     |████████                        | 512kB 13.4MB/s eta 0:00:01\r\u001b[K     |████████                        | 522kB 13.4MB/s eta 0:00:01\r\u001b[K     |████████▎                       | 532kB 13.4MB/s eta 0:00:01\r\u001b[K     |████████▍                       | 542kB 13.4MB/s eta 0:00:01\r\u001b[K     |████████▋                       | 552kB 13.4MB/s eta 0:00:01\r\u001b[K     |████████▊                       | 563kB 13.4MB/s eta 0:00:01\r\u001b[K     |█████████                       | 573kB 13.4MB/s eta 0:00:01\r\u001b[K     |█████████                       | 583kB 13.4MB/s eta 0:00:01\r\u001b[K     |█████████▎                      | 593kB 13.4MB/s eta 0:00:01\r\u001b[K     |█████████▍                      | 604kB 13.4MB/s eta 0:00:01\r\u001b[K     |█████████▌                      | 614kB 13.4MB/s eta 0:00:01\r\u001b[K     |█████████▊                      | 624kB 13.4MB/s eta 0:00:01\r\u001b[K     |█████████▉                      | 634kB 13.4MB/s eta 0:00:01\r\u001b[K     |██████████                      | 645kB 13.4MB/s eta 0:00:01\r\u001b[K     |██████████▏                     | 655kB 13.4MB/s eta 0:00:01\r\u001b[K     |██████████▍                     | 665kB 13.4MB/s eta 0:00:01\r\u001b[K     |██████████▌                     | 675kB 13.4MB/s eta 0:00:01\r\u001b[K     |██████████▋                     | 686kB 13.4MB/s eta 0:00:01\r\u001b[K     |██████████▉                     | 696kB 13.4MB/s eta 0:00:01\r\u001b[K     |███████████                     | 706kB 13.4MB/s eta 0:00:01\r\u001b[K     |███████████▏                    | 716kB 13.4MB/s eta 0:00:01\r\u001b[K     |███████████▎                    | 727kB 13.4MB/s eta 0:00:01\r\u001b[K     |███████████▌                    | 737kB 13.4MB/s eta 0:00:01\r\u001b[K     |███████████▋                    | 747kB 13.4MB/s eta 0:00:01\r\u001b[K     |███████████▊                    | 757kB 13.4MB/s eta 0:00:01\r\u001b[K     |████████████                    | 768kB 13.4MB/s eta 0:00:01\r\u001b[K     |████████████                    | 778kB 13.4MB/s eta 0:00:01\r\u001b[K     |████████████▎                   | 788kB 13.4MB/s eta 0:00:01\r\u001b[K     |████████████▍                   | 798kB 13.4MB/s eta 0:00:01\r\u001b[K     |████████████▋                   | 808kB 13.4MB/s eta 0:00:01\r\u001b[K     |████████████▊                   | 819kB 13.4MB/s eta 0:00:01\r\u001b[K     |████████████▉                   | 829kB 13.4MB/s eta 0:00:01\r\u001b[K     |█████████████                   | 839kB 13.4MB/s eta 0:00:01\r\u001b[K     |█████████████▏                  | 849kB 13.4MB/s eta 0:00:01\r\u001b[K     |█████████████▍                  | 860kB 13.4MB/s eta 0:00:01\r\u001b[K     |█████████████▌                  | 870kB 13.4MB/s eta 0:00:01\r\u001b[K     |█████████████▊                  | 880kB 13.4MB/s eta 0:00:01\r\u001b[K     |█████████████▉                  | 890kB 13.4MB/s eta 0:00:01\r\u001b[K     |██████████████                  | 901kB 13.4MB/s eta 0:00:01\r\u001b[K     |██████████████▏                 | 911kB 13.4MB/s eta 0:00:01\r\u001b[K     |██████████████▎                 | 921kB 13.4MB/s eta 0:00:01\r\u001b[K     |██████████████▌                 | 931kB 13.4MB/s eta 0:00:01\r\u001b[K     |██████████████▋                 | 942kB 13.4MB/s eta 0:00:01\r\u001b[K     |██████████████▉                 | 952kB 13.4MB/s eta 0:00:01\r\u001b[K     |███████████████                 | 962kB 13.4MB/s eta 0:00:01\r\u001b[K     |███████████████                 | 972kB 13.4MB/s eta 0:00:01\r\u001b[K     |███████████████▎                | 983kB 13.4MB/s eta 0:00:01\r\u001b[K     |███████████████▍                | 993kB 13.4MB/s eta 0:00:01\r\u001b[K     |███████████████▋                | 1.0MB 13.4MB/s eta 0:00:01\r\u001b[K     |███████████████▊                | 1.0MB 13.4MB/s eta 0:00:01\r\u001b[K     |████████████████                | 1.0MB 13.4MB/s eta 0:00:01\r\u001b[K     |████████████████                | 1.0MB 13.4MB/s eta 0:00:01\r\u001b[K     |████████████████▏               | 1.0MB 13.4MB/s eta 0:00:01\r\u001b[K     |████████████████▍               | 1.1MB 13.4MB/s eta 0:00:01\r\u001b[K     |████████████████▌               | 1.1MB 13.4MB/s eta 0:00:01\r\u001b[K     |████████████████▊               | 1.1MB 13.4MB/s eta 0:00:01\r\u001b[K     |████████████████▉               | 1.1MB 13.4MB/s eta 0:00:01\r\u001b[K     |█████████████████               | 1.1MB 13.4MB/s eta 0:00:01\r\u001b[K     |█████████████████▏              | 1.1MB 13.4MB/s eta 0:00:01\r\u001b[K     |█████████████████▍              | 1.1MB 13.4MB/s eta 0:00:01\r\u001b[K     |█████████████████▌              | 1.1MB 13.4MB/s eta 0:00:01\r\u001b[K     |█████████████████▋              | 1.1MB 13.4MB/s eta 0:00:01\r\u001b[K     |█████████████████▉              | 1.1MB 13.4MB/s eta 0:00:01\r\u001b[K     |██████████████████              | 1.2MB 13.4MB/s eta 0:00:01\r\u001b[K     |██████████████████▏             | 1.2MB 13.4MB/s eta 0:00:01\r\u001b[K     |██████████████████▎             | 1.2MB 13.4MB/s eta 0:00:01\r\u001b[K     |██████████████████▌             | 1.2MB 13.4MB/s eta 0:00:01\r\u001b[K     |██████████████████▋             | 1.2MB 13.4MB/s eta 0:00:01\r\u001b[K     |██████████████████▊             | 1.2MB 13.4MB/s eta 0:00:01\r\u001b[K     |███████████████████             | 1.2MB 13.4MB/s eta 0:00:01\r\u001b[K     |███████████████████             | 1.2MB 13.4MB/s eta 0:00:01\r\u001b[K     |███████████████████▎            | 1.2MB 13.4MB/s eta 0:00:01\r\u001b[K     |███████████████████▍            | 1.2MB 13.4MB/s eta 0:00:01\r\u001b[K     |███████████████████▋            | 1.3MB 13.4MB/s eta 0:00:01\r\u001b[K     |███████████████████▊            | 1.3MB 13.4MB/s eta 0:00:01\r\u001b[K     |███████████████████▉            | 1.3MB 13.4MB/s eta 0:00:01\r\u001b[K     |████████████████████            | 1.3MB 13.4MB/s eta 0:00:01\r\u001b[K     |████████████████████▏           | 1.3MB 13.4MB/s eta 0:00:01\r\u001b[K     |████████████████████▍           | 1.3MB 13.4MB/s eta 0:00:01\r\u001b[K     |████████████████████▌           | 1.3MB 13.4MB/s eta 0:00:01\r\u001b[K     |████████████████████▊           | 1.3MB 13.4MB/s eta 0:00:01\r\u001b[K     |████████████████████▉           | 1.3MB 13.4MB/s eta 0:00:01\r\u001b[K     |█████████████████████           | 1.4MB 13.4MB/s eta 0:00:01\r\u001b[K     |█████████████████████▏          | 1.4MB 13.4MB/s eta 0:00:01\r\u001b[K     |█████████████████████▎          | 1.4MB 13.4MB/s eta 0:00:01\r\u001b[K     |█████████████████████▌          | 1.4MB 13.4MB/s eta 0:00:01\r\u001b[K     |█████████████████████▋          | 1.4MB 13.4MB/s eta 0:00:01\r\u001b[K     |█████████████████████▉          | 1.4MB 13.4MB/s eta 0:00:01\r\u001b[K     |██████████████████████          | 1.4MB 13.4MB/s eta 0:00:01\r\u001b[K     |██████████████████████          | 1.4MB 13.4MB/s eta 0:00:01\r\u001b[K     |██████████████████████▎         | 1.4MB 13.4MB/s eta 0:00:01\r\u001b[K     |██████████████████████▍         | 1.4MB 13.4MB/s eta 0:00:01\r\u001b[K     |██████████████████████▋         | 1.5MB 13.4MB/s eta 0:00:01\r\u001b[K     |██████████████████████▊         | 1.5MB 13.4MB/s eta 0:00:01\r\u001b[K     |███████████████████████         | 1.5MB 13.4MB/s eta 0:00:01\r\u001b[K     |███████████████████████         | 1.5MB 13.4MB/s eta 0:00:01\r\u001b[K     |███████████████████████▏        | 1.5MB 13.4MB/s eta 0:00:01\r\u001b[K     |███████████████████████▍        | 1.5MB 13.4MB/s eta 0:00:01\r\u001b[K     |███████████████████████▌        | 1.5MB 13.4MB/s eta 0:00:01\r\u001b[K     |███████████████████████▊        | 1.5MB 13.4MB/s eta 0:00:01\r\u001b[K     |███████████████████████▉        | 1.5MB 13.4MB/s eta 0:00:01\r\u001b[K     |████████████████████████        | 1.5MB 13.4MB/s eta 0:00:01\r\u001b[K     |████████████████████████▏       | 1.6MB 13.4MB/s eta 0:00:01\r\u001b[K     |████████████████████████▎       | 1.6MB 13.4MB/s eta 0:00:01\r\u001b[K     |████████████████████████▌       | 1.6MB 13.4MB/s eta 0:00:01\r\u001b[K     |████████████████████████▋       | 1.6MB 13.4MB/s eta 0:00:01\r\u001b[K     |████████████████████████▉       | 1.6MB 13.4MB/s eta 0:00:01\r\u001b[K     |█████████████████████████       | 1.6MB 13.4MB/s eta 0:00:01\r\u001b[K     |█████████████████████████▏      | 1.6MB 13.4MB/s eta 0:00:01\r\u001b[K     |█████████████████████████▎      | 1.6MB 13.4MB/s eta 0:00:01\r\u001b[K     |█████████████████████████▍      | 1.6MB 13.4MB/s eta 0:00:01\r\u001b[K     |█████████████████████████▋      | 1.6MB 13.4MB/s eta 0:00:01\r\u001b[K     |█████████████████████████▊      | 1.7MB 13.4MB/s eta 0:00:01\r\u001b[K     |██████████████████████████      | 1.7MB 13.4MB/s eta 0:00:01\r\u001b[K     |██████████████████████████      | 1.7MB 13.4MB/s eta 0:00:01\r\u001b[K     |██████████████████████████▎     | 1.7MB 13.4MB/s eta 0:00:01\r\u001b[K     |██████████████████████████▍     | 1.7MB 13.4MB/s eta 0:00:01\r\u001b[K     |██████████████████████████▋     | 1.7MB 13.4MB/s eta 0:00:01\r\u001b[K     |██████████████████████████▊     | 1.7MB 13.4MB/s eta 0:00:01\r\u001b[K     |██████████████████████████▉     | 1.7MB 13.4MB/s eta 0:00:01\r\u001b[K     |███████████████████████████     | 1.7MB 13.4MB/s eta 0:00:01\r\u001b[K     |███████████████████████████▏    | 1.8MB 13.4MB/s eta 0:00:01\r\u001b[K     |███████████████████████████▍    | 1.8MB 13.4MB/s eta 0:00:01\r\u001b[K     |███████████████████████████▌    | 1.8MB 13.4MB/s eta 0:00:01\r\u001b[K     |███████████████████████████▊    | 1.8MB 13.4MB/s eta 0:00:01\r\u001b[K     |███████████████████████████▉    | 1.8MB 13.4MB/s eta 0:00:01\r\u001b[K     |████████████████████████████    | 1.8MB 13.4MB/s eta 0:00:01\r\u001b[K     |████████████████████████████▏   | 1.8MB 13.4MB/s eta 0:00:01\r\u001b[K     |████████████████████████████▎   | 1.8MB 13.4MB/s eta 0:00:01\r\u001b[K     |████████████████████████████▌   | 1.8MB 13.4MB/s eta 0:00:01\r\u001b[K     |████████████████████████████▋   | 1.8MB 13.4MB/s eta 0:00:01\r\u001b[K     |████████████████████████████▉   | 1.9MB 13.4MB/s eta 0:00:01\r\u001b[K     |█████████████████████████████   | 1.9MB 13.4MB/s eta 0:00:01\r\u001b[K     |█████████████████████████████   | 1.9MB 13.4MB/s eta 0:00:01\r\u001b[K     |█████████████████████████████▎  | 1.9MB 13.4MB/s eta 0:00:01\r\u001b[K     |█████████████████████████████▍  | 1.9MB 13.4MB/s eta 0:00:01\r\u001b[K     |█████████████████████████████▋  | 1.9MB 13.4MB/s eta 0:00:01\r\u001b[K     |█████████████████████████████▊  | 1.9MB 13.4MB/s eta 0:00:01\r\u001b[K     |██████████████████████████████  | 1.9MB 13.4MB/s eta 0:00:01\r\u001b[K     |██████████████████████████████  | 1.9MB 13.4MB/s eta 0:00:01\r\u001b[K     |██████████████████████████████▏ | 1.9MB 13.4MB/s eta 0:00:01\r\u001b[K     |██████████████████████████████▍ | 2.0MB 13.4MB/s eta 0:00:01\r\u001b[K     |██████████████████████████████▌ | 2.0MB 13.4MB/s eta 0:00:01\r\u001b[K     |██████████████████████████████▊ | 2.0MB 13.4MB/s eta 0:00:01\r\u001b[K     |██████████████████████████████▉ | 2.0MB 13.4MB/s eta 0:00:01\r\u001b[K     |███████████████████████████████ | 2.0MB 13.4MB/s eta 0:00:01\r\u001b[K     |███████████████████████████████▏| 2.0MB 13.4MB/s eta 0:00:01\r\u001b[K     |███████████████████████████████▎| 2.0MB 13.4MB/s eta 0:00:01\r\u001b[K     |███████████████████████████████▌| 2.0MB 13.4MB/s eta 0:00:01\r\u001b[K     |███████████████████████████████▋| 2.0MB 13.4MB/s eta 0:00:01\r\u001b[K     |███████████████████████████████▉| 2.0MB 13.4MB/s eta 0:00:01\r\u001b[K     |████████████████████████████████| 2.1MB 13.4MB/s eta 0:00:01\r\u001b[K     |████████████████████████████████| 2.1MB 13.4MB/s \n",
            "\u001b[?25hRequirement already satisfied: importlib-metadata; python_version < \"3.8\" in /usr/local/lib/python3.7/dist-packages (from transformers) (3.10.1)\n",
            "Requirement already satisfied: packaging in /usr/local/lib/python3.7/dist-packages (from transformers) (20.9)\n",
            "Requirement already satisfied: numpy>=1.17 in /usr/local/lib/python3.7/dist-packages (from transformers) (1.19.5)\n",
            "Requirement already satisfied: requests in /usr/local/lib/python3.7/dist-packages (from transformers) (2.23.0)\n",
            "Collecting tokenizers<0.11,>=0.10.1\n",
            "\u001b[?25l  Downloading https://files.pythonhosted.org/packages/ae/04/5b870f26a858552025a62f1649c20d29d2672c02ff3c3fb4c688ca46467a/tokenizers-0.10.2-cp37-cp37m-manylinux2010_x86_64.whl (3.3MB)\n",
            "\u001b[K     |████████████████████████████████| 3.3MB 51.8MB/s \n",
            "\u001b[?25hRequirement already satisfied: tqdm>=4.27 in /usr/local/lib/python3.7/dist-packages (from transformers) (4.41.1)\n",
            "Collecting sacremoses\n",
            "\u001b[?25l  Downloading https://files.pythonhosted.org/packages/75/ee/67241dc87f266093c533a2d4d3d69438e57d7a90abb216fa076e7d475d4a/sacremoses-0.0.45-py3-none-any.whl (895kB)\n",
            "\u001b[K     |████████████████████████████████| 901kB 31.5MB/s \n",
            "\u001b[?25hRequirement already satisfied: regex!=2019.12.17 in /usr/local/lib/python3.7/dist-packages (from transformers) (2019.12.20)\n",
            "Requirement already satisfied: filelock in /usr/local/lib/python3.7/dist-packages (from transformers) (3.0.12)\n",
            "Requirement already satisfied: typing-extensions>=3.6.4; python_version < \"3.8\" in /usr/local/lib/python3.7/dist-packages (from importlib-metadata; python_version < \"3.8\"->transformers) (3.7.4.3)\n",
            "Requirement already satisfied: zipp>=0.5 in /usr/local/lib/python3.7/dist-packages (from importlib-metadata; python_version < \"3.8\"->transformers) (3.4.1)\n",
            "Requirement already satisfied: pyparsing>=2.0.2 in /usr/local/lib/python3.7/dist-packages (from packaging->transformers) (2.4.7)\n",
            "Requirement already satisfied: idna<3,>=2.5 in /usr/local/lib/python3.7/dist-packages (from requests->transformers) (2.10)\n",
            "Requirement already satisfied: certifi>=2017.4.17 in /usr/local/lib/python3.7/dist-packages (from requests->transformers) (2020.12.5)\n",
            "Requirement already satisfied: urllib3!=1.25.0,!=1.25.1,<1.26,>=1.21.1 in /usr/local/lib/python3.7/dist-packages (from requests->transformers) (1.24.3)\n",
            "Requirement already satisfied: chardet<4,>=3.0.2 in /usr/local/lib/python3.7/dist-packages (from requests->transformers) (3.0.4)\n",
            "Requirement already satisfied: click in /usr/local/lib/python3.7/dist-packages (from sacremoses->transformers) (7.1.2)\n",
            "Requirement already satisfied: joblib in /usr/local/lib/python3.7/dist-packages (from sacremoses->transformers) (1.0.1)\n",
            "Requirement already satisfied: six in /usr/local/lib/python3.7/dist-packages (from sacremoses->transformers) (1.15.0)\n",
            "Installing collected packages: tokenizers, sacremoses, transformers\n",
            "Successfully installed sacremoses-0.0.45 tokenizers-0.10.2 transformers-4.5.1\n"
          ],
          "name": "stdout"
        }
      ]
    },
    {
      "cell_type": "code",
      "metadata": {
        "id": "wjzIZcAvCMwf"
      },
      "source": [
        "import tensorflow as tf\n",
        "from transformers import BertTokenizer, BertModel\n",
        "import numpy as np\n",
        "from typing import Callable, List, Optional, Tuple\n",
        "import pandas as pd\n",
        "from sklearn.base import TransformerMixin, BaseEstimator\n",
        "from sklearn import svm\n",
        "from sklearn.ensemble import RandomForestClassifier\n",
        "from sklearn.pipeline import Pipeline\n",
        "from sklearn.preprocessing import StandardScaler\n",
        "import torch"
      ],
      "execution_count": 48,
      "outputs": []
    },
    {
      "cell_type": "code",
      "metadata": {
        "colab": {
          "base_uri": "https://localhost:8080/",
          "height": 36
        },
        "id": "rZgiY62B_MxJ",
        "outputId": "9fbb1e38-8ea5-4112-c388-eafb1d894db4"
      },
      "source": [
        "tf.test.gpu_device_name()"
      ],
      "execution_count": 3,
      "outputs": [
        {
          "output_type": "execute_result",
          "data": {
            "application/vnd.google.colaboratory.intrinsic+json": {
              "type": "string"
            },
            "text/plain": [
              "'/device:GPU:0'"
            ]
          },
          "metadata": {
            "tags": []
          },
          "execution_count": 3
        }
      ]
    },
    {
      "cell_type": "code",
      "metadata": {
        "id": "dDeRPSQR_M60"
      },
      "source": [
        "from google.colab import drive"
      ],
      "execution_count": 4,
      "outputs": []
    },
    {
      "cell_type": "code",
      "metadata": {
        "colab": {
          "base_uri": "https://localhost:8080/"
        },
        "id": "S3Wc0yYX_M9z",
        "outputId": "66c24329-6ff3-4fe1-a13c-c80d123655e0"
      },
      "source": [
        "drive.mount('/content/gdrive')"
      ],
      "execution_count": 8,
      "outputs": [
        {
          "output_type": "stream",
          "text": [
            "Mounted at /content/gdrive\n"
          ],
          "name": "stdout"
        }
      ]
    },
    {
      "cell_type": "code",
      "metadata": {
        "id": "NrxdP3gk_NA0"
      },
      "source": [
        "data = pd.read_csv(\"/content/gdrive/MyDrive/train.tsv\", sep='\\t') "
      ],
      "execution_count": 9,
      "outputs": []
    },
    {
      "cell_type": "code",
      "metadata": {
        "colab": {
          "base_uri": "https://localhost:8080/",
          "height": 424
        },
        "id": "ykXggbTB_NDm",
        "outputId": "0bc1e470-2de2-4309-8e79-9e80054bdf67"
      },
      "source": [
        "data"
      ],
      "execution_count": 10,
      "outputs": [
        {
          "output_type": "execute_result",
          "data": {
            "text/html": [
              "<div>\n",
              "<style scoped>\n",
              "    .dataframe tbody tr th:only-of-type {\n",
              "        vertical-align: middle;\n",
              "    }\n",
              "\n",
              "    .dataframe tbody tr th {\n",
              "        vertical-align: top;\n",
              "    }\n",
              "\n",
              "    .dataframe thead th {\n",
              "        text-align: right;\n",
              "    }\n",
              "</style>\n",
              "<table border=\"1\" class=\"dataframe\">\n",
              "  <thead>\n",
              "    <tr style=\"text-align: right;\">\n",
              "      <th></th>\n",
              "      <th>PhraseId</th>\n",
              "      <th>SentenceId</th>\n",
              "      <th>Phrase</th>\n",
              "      <th>Sentiment</th>\n",
              "    </tr>\n",
              "  </thead>\n",
              "  <tbody>\n",
              "    <tr>\n",
              "      <th>0</th>\n",
              "      <td>1</td>\n",
              "      <td>1</td>\n",
              "      <td>A series of escapades demonstrating the adage ...</td>\n",
              "      <td>1</td>\n",
              "    </tr>\n",
              "    <tr>\n",
              "      <th>1</th>\n",
              "      <td>2</td>\n",
              "      <td>1</td>\n",
              "      <td>A series of escapades demonstrating the adage ...</td>\n",
              "      <td>2</td>\n",
              "    </tr>\n",
              "    <tr>\n",
              "      <th>2</th>\n",
              "      <td>3</td>\n",
              "      <td>1</td>\n",
              "      <td>A series</td>\n",
              "      <td>2</td>\n",
              "    </tr>\n",
              "    <tr>\n",
              "      <th>3</th>\n",
              "      <td>4</td>\n",
              "      <td>1</td>\n",
              "      <td>A</td>\n",
              "      <td>2</td>\n",
              "    </tr>\n",
              "    <tr>\n",
              "      <th>4</th>\n",
              "      <td>5</td>\n",
              "      <td>1</td>\n",
              "      <td>series</td>\n",
              "      <td>2</td>\n",
              "    </tr>\n",
              "    <tr>\n",
              "      <th>...</th>\n",
              "      <td>...</td>\n",
              "      <td>...</td>\n",
              "      <td>...</td>\n",
              "      <td>...</td>\n",
              "    </tr>\n",
              "    <tr>\n",
              "      <th>156055</th>\n",
              "      <td>156056</td>\n",
              "      <td>8544</td>\n",
              "      <td>Hearst 's</td>\n",
              "      <td>2</td>\n",
              "    </tr>\n",
              "    <tr>\n",
              "      <th>156056</th>\n",
              "      <td>156057</td>\n",
              "      <td>8544</td>\n",
              "      <td>forced avuncular chortles</td>\n",
              "      <td>1</td>\n",
              "    </tr>\n",
              "    <tr>\n",
              "      <th>156057</th>\n",
              "      <td>156058</td>\n",
              "      <td>8544</td>\n",
              "      <td>avuncular chortles</td>\n",
              "      <td>3</td>\n",
              "    </tr>\n",
              "    <tr>\n",
              "      <th>156058</th>\n",
              "      <td>156059</td>\n",
              "      <td>8544</td>\n",
              "      <td>avuncular</td>\n",
              "      <td>2</td>\n",
              "    </tr>\n",
              "    <tr>\n",
              "      <th>156059</th>\n",
              "      <td>156060</td>\n",
              "      <td>8544</td>\n",
              "      <td>chortles</td>\n",
              "      <td>2</td>\n",
              "    </tr>\n",
              "  </tbody>\n",
              "</table>\n",
              "<p>156060 rows × 4 columns</p>\n",
              "</div>"
            ],
            "text/plain": [
              "        PhraseId  ...  Sentiment\n",
              "0              1  ...          1\n",
              "1              2  ...          2\n",
              "2              3  ...          2\n",
              "3              4  ...          2\n",
              "4              5  ...          2\n",
              "...          ...  ...        ...\n",
              "156055    156056  ...          2\n",
              "156056    156057  ...          1\n",
              "156057    156058  ...          3\n",
              "156058    156059  ...          2\n",
              "156059    156060  ...          2\n",
              "\n",
              "[156060 rows x 4 columns]"
            ]
          },
          "metadata": {
            "tags": []
          },
          "execution_count": 10
        }
      ]
    },
    {
      "cell_type": "code",
      "metadata": {
        "id": "20A_EOk6_NJ2"
      },
      "source": [
        "data = data.drop_duplicates(subset=['SentenceId'], keep='first')"
      ],
      "execution_count": 11,
      "outputs": []
    },
    {
      "cell_type": "code",
      "metadata": {
        "colab": {
          "base_uri": "https://localhost:8080/",
          "height": 424
        },
        "id": "oE_9DeHuAAAz",
        "outputId": "dd8f6649-b887-4b18-fdd6-0bd1fe22daea"
      },
      "source": [
        "data"
      ],
      "execution_count": 12,
      "outputs": [
        {
          "output_type": "execute_result",
          "data": {
            "text/html": [
              "<div>\n",
              "<style scoped>\n",
              "    .dataframe tbody tr th:only-of-type {\n",
              "        vertical-align: middle;\n",
              "    }\n",
              "\n",
              "    .dataframe tbody tr th {\n",
              "        vertical-align: top;\n",
              "    }\n",
              "\n",
              "    .dataframe thead th {\n",
              "        text-align: right;\n",
              "    }\n",
              "</style>\n",
              "<table border=\"1\" class=\"dataframe\">\n",
              "  <thead>\n",
              "    <tr style=\"text-align: right;\">\n",
              "      <th></th>\n",
              "      <th>PhraseId</th>\n",
              "      <th>SentenceId</th>\n",
              "      <th>Phrase</th>\n",
              "      <th>Sentiment</th>\n",
              "    </tr>\n",
              "  </thead>\n",
              "  <tbody>\n",
              "    <tr>\n",
              "      <th>0</th>\n",
              "      <td>1</td>\n",
              "      <td>1</td>\n",
              "      <td>A series of escapades demonstrating the adage ...</td>\n",
              "      <td>1</td>\n",
              "    </tr>\n",
              "    <tr>\n",
              "      <th>63</th>\n",
              "      <td>64</td>\n",
              "      <td>2</td>\n",
              "      <td>This quiet , introspective and entertaining in...</td>\n",
              "      <td>4</td>\n",
              "    </tr>\n",
              "    <tr>\n",
              "      <th>81</th>\n",
              "      <td>82</td>\n",
              "      <td>3</td>\n",
              "      <td>Even fans of Ismail Merchant 's work , I suspe...</td>\n",
              "      <td>1</td>\n",
              "    </tr>\n",
              "    <tr>\n",
              "      <th>116</th>\n",
              "      <td>117</td>\n",
              "      <td>4</td>\n",
              "      <td>A positively thrilling combination of ethnogra...</td>\n",
              "      <td>3</td>\n",
              "    </tr>\n",
              "    <tr>\n",
              "      <th>156</th>\n",
              "      <td>157</td>\n",
              "      <td>5</td>\n",
              "      <td>Aggressive self-glorification and a manipulati...</td>\n",
              "      <td>1</td>\n",
              "    </tr>\n",
              "    <tr>\n",
              "      <th>...</th>\n",
              "      <td>...</td>\n",
              "      <td>...</td>\n",
              "      <td>...</td>\n",
              "      <td>...</td>\n",
              "    </tr>\n",
              "    <tr>\n",
              "      <th>155984</th>\n",
              "      <td>155985</td>\n",
              "      <td>8540</td>\n",
              "      <td>... either you 're willing to go with this cla...</td>\n",
              "      <td>2</td>\n",
              "    </tr>\n",
              "    <tr>\n",
              "      <th>155997</th>\n",
              "      <td>155998</td>\n",
              "      <td>8541</td>\n",
              "      <td>Despite these annoyances , the capable Claybur...</td>\n",
              "      <td>2</td>\n",
              "    </tr>\n",
              "    <tr>\n",
              "      <th>156021</th>\n",
              "      <td>156022</td>\n",
              "      <td>8542</td>\n",
              "      <td>-LRB- Tries -RRB- to parody a genre that 's al...</td>\n",
              "      <td>1</td>\n",
              "    </tr>\n",
              "    <tr>\n",
              "      <th>156031</th>\n",
              "      <td>156032</td>\n",
              "      <td>8543</td>\n",
              "      <td>The movie 's downfall is to substitute plot fo...</td>\n",
              "      <td>1</td>\n",
              "    </tr>\n",
              "    <tr>\n",
              "      <th>156039</th>\n",
              "      <td>156040</td>\n",
              "      <td>8544</td>\n",
              "      <td>The film is darkly atmospheric , with Herrmann...</td>\n",
              "      <td>2</td>\n",
              "    </tr>\n",
              "  </tbody>\n",
              "</table>\n",
              "<p>8529 rows × 4 columns</p>\n",
              "</div>"
            ],
            "text/plain": [
              "        PhraseId  ...  Sentiment\n",
              "0              1  ...          1\n",
              "63            64  ...          4\n",
              "81            82  ...          1\n",
              "116          117  ...          3\n",
              "156          157  ...          1\n",
              "...          ...  ...        ...\n",
              "155984    155985  ...          2\n",
              "155997    155998  ...          2\n",
              "156021    156022  ...          1\n",
              "156031    156032  ...          1\n",
              "156039    156040  ...          2\n",
              "\n",
              "[8529 rows x 4 columns]"
            ]
          },
          "metadata": {
            "tags": []
          },
          "execution_count": 12
        }
      ]
    },
    {
      "cell_type": "code",
      "metadata": {
        "id": "K1VSQrG3AL5b",
        "colab": {
          "base_uri": "https://localhost:8080/",
          "height": 116,
          "referenced_widgets": [
            "102a839677ec41bb986564a2bdd548b7",
            "1199a5f7046148f49ee92d096f5e2f07",
            "54b626e03df14cf2833f06f6a95bf91f",
            "f9bd7fb0fafe4864a97d57ac09ad691b",
            "be96640298e140468504011dfc2956c2",
            "5b6fb45219f242b6b5a9666e0be33335",
            "2d215845dddd4fd6b7cec7ddd5b62d24",
            "d7e7dc2b29a249468fb167f3dee5e799",
            "ec6fce5a4dbb4c0a9b2d0a46bfc01544",
            "3826d97fb5814784a48dc339b987f422",
            "d49f95a9c7744a13a65dce78b0db2b91",
            "4fab6abdd3354956a86a5c603a6332dc",
            "7c9be2ac7df64411b02483583166417e",
            "20cc214361754ec5930b42a1288fb09b",
            "5127821b08494f50a4d223696949e614",
            "feb3dc59ae7d4888ba18d9e588e89cde"
          ]
        },
        "outputId": "4c45726e-cf83-4089-f52e-332916c10c7c"
      },
      "source": [
        "bert_model = BertModel.from_pretrained(\"bert-base-uncased\")"
      ],
      "execution_count": 13,
      "outputs": [
        {
          "output_type": "display_data",
          "data": {
            "application/vnd.jupyter.widget-view+json": {
              "model_id": "102a839677ec41bb986564a2bdd548b7",
              "version_minor": 0,
              "version_major": 2
            },
            "text/plain": [
              "HBox(children=(FloatProgress(value=0.0, description='Downloading', max=433.0, style=ProgressStyle(description_…"
            ]
          },
          "metadata": {
            "tags": []
          }
        },
        {
          "output_type": "stream",
          "text": [
            "\n"
          ],
          "name": "stdout"
        },
        {
          "output_type": "display_data",
          "data": {
            "application/vnd.jupyter.widget-view+json": {
              "model_id": "ec6fce5a4dbb4c0a9b2d0a46bfc01544",
              "version_minor": 0,
              "version_major": 2
            },
            "text/plain": [
              "HBox(children=(FloatProgress(value=0.0, description='Downloading', max=440473133.0, style=ProgressStyle(descri…"
            ]
          },
          "metadata": {
            "tags": []
          }
        },
        {
          "output_type": "stream",
          "text": [
            "\n"
          ],
          "name": "stdout"
        }
      ]
    },
    {
      "cell_type": "code",
      "metadata": {
        "id": "dj-Ifx0xAMIx",
        "colab": {
          "base_uri": "https://localhost:8080/",
          "height": 165,
          "referenced_widgets": [
            "f742adef05d744fe91658418aa81453e",
            "bd1586a832c9455780e5d573c6926a9a",
            "4dc733913ce34662bd3eb017389a6872",
            "43da7a2f6dc04dbea0939a840d21b749",
            "245848f6bd6a42848d1dfc0f5239c0e6",
            "40d9e1cae09d4988b87228f6d16f388a",
            "bd5f431f6e11462fb9158958961cd3d3",
            "6b8bd642666e4ff3a8a58ccfbff86b90",
            "65d186e6c4a843df8466f5107762d16b",
            "0062e948abda498ca5f3fac87230e869",
            "9bb679325a434730a6467449d1df9d6a",
            "19bcab2604184e11ab7868194aa7efd3",
            "df409b8374a546c8a84184f786227cfd",
            "8f0c0e2b27df42c4b501f83fb9b75091",
            "06812eb636ad4b4e85b30f9cf0da71f5",
            "1e8c218126114659ab12d02bffc2097c",
            "ca68b5887a5245dab9d4d40ae52a9336",
            "f9a997365c6c43bdbc0bda9bd7819ef9",
            "ac47bbfef8694d498b285bbc5c4ad3f9",
            "c1bbdcfb4f134c6c9fec39951275b358",
            "2e149374d6704562be122ae69a3c6886",
            "4b630372384646078a27dc87c0c90028",
            "2bb32fd88e954767b4b435e603e4c600",
            "4aaefb3c50d84f938090b8569b7b9fb4"
          ]
        },
        "outputId": "7b37d7e7-d79a-4af5-ba3e-8b08c95f2661"
      },
      "source": [
        "tokenizer = BertTokenizer.from_pretrained(\"bert-base-uncased\")"
      ],
      "execution_count": 14,
      "outputs": [
        {
          "output_type": "display_data",
          "data": {
            "application/vnd.jupyter.widget-view+json": {
              "model_id": "f742adef05d744fe91658418aa81453e",
              "version_minor": 0,
              "version_major": 2
            },
            "text/plain": [
              "HBox(children=(FloatProgress(value=0.0, description='Downloading', max=231508.0, style=ProgressStyle(descripti…"
            ]
          },
          "metadata": {
            "tags": []
          }
        },
        {
          "output_type": "stream",
          "text": [
            "\n"
          ],
          "name": "stdout"
        },
        {
          "output_type": "display_data",
          "data": {
            "application/vnd.jupyter.widget-view+json": {
              "model_id": "65d186e6c4a843df8466f5107762d16b",
              "version_minor": 0,
              "version_major": 2
            },
            "text/plain": [
              "HBox(children=(FloatProgress(value=0.0, description='Downloading', max=28.0, style=ProgressStyle(description_w…"
            ]
          },
          "metadata": {
            "tags": []
          }
        },
        {
          "output_type": "stream",
          "text": [
            "\n"
          ],
          "name": "stdout"
        },
        {
          "output_type": "display_data",
          "data": {
            "application/vnd.jupyter.widget-view+json": {
              "model_id": "ca68b5887a5245dab9d4d40ae52a9336",
              "version_minor": 0,
              "version_major": 2
            },
            "text/plain": [
              "HBox(children=(FloatProgress(value=0.0, description='Downloading', max=466062.0, style=ProgressStyle(descripti…"
            ]
          },
          "metadata": {
            "tags": []
          }
        },
        {
          "output_type": "stream",
          "text": [
            "\n"
          ],
          "name": "stdout"
        }
      ]
    },
    {
      "cell_type": "code",
      "metadata": {
        "id": "OgsK_PG0vhJg"
      },
      "source": [
        "bert_model.cuda();"
      ],
      "execution_count": 15,
      "outputs": []
    },
    {
      "cell_type": "code",
      "metadata": {
        "colab": {
          "base_uri": "https://localhost:8080/"
        },
        "id": "B3fiEQI-vl7X",
        "outputId": "19c00871-23a0-4010-8429-3f10fb979449"
      },
      "source": [
        "bert_model.device"
      ],
      "execution_count": 16,
      "outputs": [
        {
          "output_type": "execute_result",
          "data": {
            "text/plain": [
              "device(type='cuda', index=0)"
            ]
          },
          "metadata": {
            "tags": []
          },
          "execution_count": 16
        }
      ]
    },
    {
      "cell_type": "code",
      "metadata": {
        "id": "MVYdXEeGAMN2"
      },
      "source": [
        "class BertTransformer(BaseEstimator, TransformerMixin):\n",
        "    def __init__(\n",
        "            self,\n",
        "            bert_tokenizer,\n",
        "            bert_model,\n",
        "            max_length: int = 60,\n",
        "            embedding_func: Optional[Callable[[torch.tensor], torch.tensor]] = None,\n",
        "    ):\n",
        "        self.tokenizer = bert_tokenizer\n",
        "        self.model = bert_model\n",
        "        self.model.eval()\n",
        "        self.max_length = max_length\n",
        "        self.embedding_func = embedding_func\n",
        "\n",
        "        if self.embedding_func is None:\n",
        "            self.embedding_func = lambda x: x[0][:, 0, :].squeeze()\n",
        "            #self.embedding_func = lambda x: torch.flatten(x[0])\n",
        "\n",
        "    def _tokenize(self, text: str) -> Tuple[torch.tensor, torch.tensor]:\n",
        "        # Tokenize the text with the provided tokenizer\n",
        "        tokenized_text = self.tokenizer.encode_plus(text,\n",
        "                                                    text,\n",
        "                                                    add_special_tokens=True,\n",
        "                                                    max_length=self.max_length,\n",
        "                                                    truncation=True,\n",
        "                                                    )[\"input_ids\"]\n",
        "\n",
        "        # Create an attention mask telling BERT to use all words\n",
        "        attention_mask = [1] * len(tokenized_text)\n",
        "\n",
        "        # bert takes in a batch so we need to unsqueeze the rows\n",
        "        return (\n",
        "            torch.tensor(tokenized_text).unsqueeze(0).cuda(),\n",
        "            torch.tensor(attention_mask).unsqueeze(0).cuda(),\n",
        "        )\n",
        "\n",
        "    def _tokenize_and_predict(self, text: str) -> torch.tensor:\n",
        "        tokenized, attention_mask = self._tokenize(text)\n",
        "\n",
        "        embeddings = self.model(tokenized, attention_mask)\n",
        "        return self.embedding_func(embeddings).detach().cpu()\n",
        "\n",
        "    def transform(self, text: List[str]):\n",
        "        if isinstance(text, pd.Series):\n",
        "            text = text.tolist()\n",
        "\n",
        "        with torch.no_grad():\n",
        "            return torch.stack([self._tokenize_and_predict(string) for string in text])\n",
        "\n",
        "    def fit(self, X, y=None):\n",
        "        \"\"\"No fitting necessary so we just return ourselves\"\"\"\n",
        "        return self"
      ],
      "execution_count": 17,
      "outputs": []
    },
    {
      "cell_type": "code",
      "metadata": {
        "id": "89W7kL49AMSl"
      },
      "source": [
        "split = np.random.choice(\n",
        "    [\"train\", \"test\"],\n",
        "    size=data.shape[0],\n",
        "    p=[.8, .2]\n",
        ")"
      ],
      "execution_count": 18,
      "outputs": []
    },
    {
      "cell_type": "code",
      "metadata": {
        "id": "ovxr_VB_G1hU",
        "colab": {
          "base_uri": "https://localhost:8080/"
        },
        "outputId": "f1e1ef4b-69b0-4fc3-9e31-0b5b77c8ada5"
      },
      "source": [
        "data[\"split\"] = split"
      ],
      "execution_count": 19,
      "outputs": [
        {
          "output_type": "stream",
          "text": [
            "/usr/local/lib/python3.7/dist-packages/ipykernel_launcher.py:1: SettingWithCopyWarning: \n",
            "A value is trying to be set on a copy of a slice from a DataFrame.\n",
            "Try using .loc[row_indexer,col_indexer] = value instead\n",
            "\n",
            "See the caveats in the documentation: https://pandas.pydata.org/pandas-docs/stable/user_guide/indexing.html#returning-a-view-versus-a-copy\n",
            "  \"\"\"Entry point for launching an IPython kernel.\n"
          ],
          "name": "stderr"
        }
      ]
    },
    {
      "cell_type": "code",
      "metadata": {
        "id": "zGNZ5HDjIJGn"
      },
      "source": [
        "x_train = data[data[\"split\"] == \"train\"]\n",
        "y_train = x_train[\"Sentiment\"]"
      ],
      "execution_count": 20,
      "outputs": []
    },
    {
      "cell_type": "code",
      "metadata": {
        "colab": {
          "base_uri": "https://localhost:8080/"
        },
        "id": "G1PrOPdCuaZ5",
        "outputId": "ca472628-3933-4eeb-fbc3-a97c71817378"
      },
      "source": [
        "x_train['Phrase'].apply(lambda x: x.split()).apply(len).max()"
      ],
      "execution_count": 21,
      "outputs": [
        {
          "output_type": "execute_result",
          "data": {
            "text/plain": [
              "52"
            ]
          },
          "metadata": {
            "tags": []
          },
          "execution_count": 21
        }
      ]
    },
    {
      "cell_type": "code",
      "metadata": {
        "id": "6ShIYDGiIhlq"
      },
      "source": [
        "bert_transformer = BertTransformer(tokenizer, bert_model, max_length=60)\n",
        "classifier = svm.SVC(C=1.0, class_weight=\"balanced\", verbose=2)\n",
        "scaler = StandardScaler()"
      ],
      "execution_count": 73,
      "outputs": []
    },
    {
      "cell_type": "code",
      "metadata": {
        "colab": {
          "base_uri": "https://localhost:8080/",
          "height": 132
        },
        "id": "m3wZ7P2b1Rnk",
        "outputId": "13ff101a-f666-4cc8-d302-a7c5ec3401f5"
      },
      "source": [
        "tuned_parameters = param_grid = {'C': [0.001, 0.01, 0.1, 1, 10], 'kernel': ['rbf'], average='micro'}\n",
        "clf = GridSearchCV(svm.SVC(), param_grid = param_grid, cv=5, verbose=2, scoring= ['accuracy','f1', 'precision', 'recall'], n_jobs = -1, refit = 'accuracy')"
      ],
      "execution_count": 72,
      "outputs": [
        {
          "output_type": "error",
          "ename": "SyntaxError",
          "evalue": "ignored",
          "traceback": [
            "\u001b[0;36m  File \u001b[0;32m\"<ipython-input-72-f33c13e2393b>\"\u001b[0;36m, line \u001b[0;32m1\u001b[0m\n\u001b[0;31m    tuned_parameters = param_grid = {'C': [0.001, 0.01, 0.1, 1, 10], 'kernel': ['rbf'], average='micro'}\u001b[0m\n\u001b[0m                                                                                               ^\u001b[0m\n\u001b[0;31mSyntaxError\u001b[0m\u001b[0;31m:\u001b[0m invalid syntax\n"
          ]
        }
      ]
    },
    {
      "cell_type": "code",
      "metadata": {
        "id": "bY8M3OOs1af3"
      },
      "source": [
        "bert_transformer = BertTransformer(tokenizer, bert_model, max_length=60)\n",
        "classifier = clf"
      ],
      "execution_count": 67,
      "outputs": []
    },
    {
      "cell_type": "code",
      "metadata": {
        "id": "oCnQV2CeI1C7"
      },
      "source": [
        "model = Pipeline(steps=\n",
        "    [\n",
        "        (\"vectorizer\", bert_transformer),\n",
        "        ('scaler', StandardScaler()),\n",
        "        (\"classifier\", classifier),\n",
        "    ], verbose = True\n",
        ")"
      ],
      "execution_count": 74,
      "outputs": []
    },
    {
      "cell_type": "code",
      "metadata": {
        "colab": {
          "base_uri": "https://localhost:8080/"
        },
        "id": "5GxpwiEdI8Z8",
        "outputId": "59c75ff4-5ba4-4baa-bb75-c7e2e6f9b065"
      },
      "source": [
        "model.fit(x_train[\"Phrase\"], y_train)"
      ],
      "execution_count": null,
      "outputs": [
        {
          "output_type": "stream",
          "text": [
            "[Pipeline] ........ (step 1 of 3) Processing vectorizer, total= 1.1min\n",
            "[Pipeline] ............ (step 2 of 3) Processing scaler, total=   0.1s\n",
            "[LibSVM][Pipeline] ........ (step 3 of 3) Processing classifier, total= 1.0min\n"
          ],
          "name": "stdout"
        },
        {
          "output_type": "stream",
          "text": [
            "/usr/local/lib/python3.7/dist-packages/sklearn/base.py:197: FutureWarning: From version 0.24, get_params will raise an AttributeError if a parameter cannot be retrieved as an instance attribute. Previously it would return None.\n",
            "  FutureWarning)\n"
          ],
          "name": "stderr"
        },
        {
          "output_type": "execute_result",
          "data": {
            "text/plain": [
              "Pipeline(memory=None,\n",
              "         steps=[('vectorizer',\n",
              "                 BertTransformer(bert_model=None, bert_tokenizer=None,\n",
              "                                 embedding_func=<function BertTransformer.__init__.<locals>.<lambda> at 0x7f488be14cb0>,\n",
              "                                 max_length=60)),\n",
              "                ('scaler',\n",
              "                 StandardScaler(copy=True, with_mean=True, with_std=True)),\n",
              "                ('classifier',\n",
              "                 SVC(C=1.0, break_ties=False, cache_size=200,\n",
              "                     class_weight='balanced', coef0=0.0,\n",
              "                     decision_function_shape='ovr', degree=3, gamma='scale',\n",
              "                     kernel='rbf', max_iter=-1, probability=False,\n",
              "                     random_state=None, shrinking=True, tol=0.001,\n",
              "                     verbose=2))],\n",
              "         verbose=True)"
            ]
          },
          "metadata": {
            "tags": []
          },
          "execution_count": 34
        }
      ]
    },
    {
      "cell_type": "code",
      "metadata": {
        "id": "_zQVIa9iTjK-"
      },
      "source": [
        "x_test = data[data[\"split\"] == \"test\"]\n",
        "y_test = x_test[\"Sentiment\"]"
      ],
      "execution_count": 26,
      "outputs": []
    },
    {
      "cell_type": "markdown",
      "metadata": {
        "id": "u2QdATeWWbg9"
      },
      "source": [
        "Result with one input"
      ]
    },
    {
      "cell_type": "code",
      "metadata": {
        "colab": {
          "base_uri": "https://localhost:8080/"
        },
        "id": "tXCLmiBxJ0FP",
        "outputId": "6bb8aec3-be42-4cae-f238-d5c1968106ba"
      },
      "source": [
        " model.score(x_test['Phrase'], y_test)"
      ],
      "execution_count": 36,
      "outputs": [
        {
          "output_type": "execute_result",
          "data": {
            "text/plain": [
              "0.4044495151169424"
            ]
          },
          "metadata": {
            "tags": []
          },
          "execution_count": 36
        }
      ]
    },
    {
      "cell_type": "markdown",
      "metadata": {
        "id": "wAySves7Wr-t"
      },
      "source": [
        "Result with two inputs"
      ]
    },
    {
      "cell_type": "code",
      "metadata": {
        "colab": {
          "base_uri": "https://localhost:8080/"
        },
        "id": "gQgLGusyWi87",
        "outputId": "a6d47068-12ec-4c27-9ae1-e969faed6d8e"
      },
      "source": [
        "model.fit(x_train[\"Phrase\"], y_train)"
      ],
      "execution_count": 75,
      "outputs": [
        {
          "output_type": "stream",
          "text": [
            "[Pipeline] ........ (step 1 of 3) Processing vectorizer, total= 1.2min\n",
            "[Pipeline] ............ (step 2 of 3) Processing scaler, total=   0.1s\n",
            "[LibSVM][Pipeline] ........ (step 3 of 3) Processing classifier, total= 1.1min\n"
          ],
          "name": "stdout"
        },
        {
          "output_type": "stream",
          "text": [
            "/usr/local/lib/python3.7/dist-packages/sklearn/base.py:197: FutureWarning: From version 0.24, get_params will raise an AttributeError if a parameter cannot be retrieved as an instance attribute. Previously it would return None.\n",
            "  FutureWarning)\n"
          ],
          "name": "stderr"
        },
        {
          "output_type": "execute_result",
          "data": {
            "text/plain": [
              "Pipeline(memory=None,\n",
              "         steps=[('vectorizer',\n",
              "                 BertTransformer(bert_model=None, bert_tokenizer=None,\n",
              "                                 embedding_func=<function BertTransformer.__init__.<locals>.<lambda> at 0x7f4f1aba9dd0>,\n",
              "                                 max_length=60)),\n",
              "                ('scaler',\n",
              "                 StandardScaler(copy=True, with_mean=True, with_std=True)),\n",
              "                ('classifier',\n",
              "                 SVC(C=1.0, break_ties=False, cache_size=200,\n",
              "                     class_weight='balanced', coef0=0.0,\n",
              "                     decision_function_shape='ovr', degree=3, gamma='scale',\n",
              "                     kernel='rbf', max_iter=-1, probability=False,\n",
              "                     random_state=None, shrinking=True, tol=0.001,\n",
              "                     verbose=2))],\n",
              "         verbose=True)"
            ]
          },
          "metadata": {
            "tags": []
          },
          "execution_count": 75
        }
      ]
    },
    {
      "cell_type": "code",
      "metadata": {
        "id": "iwab8Hh-n4WE"
      },
      "source": [
        "y_pred=model.predict(x_train[\"Phrase\"])"
      ],
      "execution_count": 76,
      "outputs": []
    },
    {
      "cell_type": "code",
      "metadata": {
        "colab": {
          "base_uri": "https://localhost:8080/"
        },
        "id": "LpApuIuLWmzS",
        "outputId": "9c43fb59-76e1-4025-aaca-646085c7f2f9"
      },
      "source": [
        " model.score(x_test['Phrase'], y_test)"
      ],
      "execution_count": 77,
      "outputs": [
        {
          "output_type": "execute_result",
          "data": {
            "text/plain": [
              "0.4409583571021107"
            ]
          },
          "metadata": {
            "tags": []
          },
          "execution_count": 77
        }
      ]
    },
    {
      "cell_type": "code",
      "metadata": {
        "id": "ql03oQhC7Ct0"
      },
      "source": [
        "model.cv_results_['mean_test_accuracy'][0]"
      ],
      "execution_count": null,
      "outputs": []
    },
    {
      "cell_type": "code",
      "metadata": {
        "colab": {
          "base_uri": "https://localhost:8080/"
        },
        "id": "vl1Yo5o1mMIt",
        "outputId": "e85fe801-5f7b-4909-f16e-bab0ee7d7f0a"
      },
      "source": [
        "from sklearn.metrics import classification_report\n",
        "sentiment = ['class 0', 'class 1', 'class 2','class3', 'class4']\n",
        "print(classification_report(y_train, y_pred, target_names=sentiment))"
      ],
      "execution_count": 78,
      "outputs": [
        {
          "output_type": "stream",
          "text": [
            "              precision    recall  f1-score   support\n",
            "\n",
            "     class 0       0.72      0.93      0.81       866\n",
            "     class 1       0.82      0.79      0.81      1751\n",
            "     class 2       0.80      0.78      0.79      1314\n",
            "      class3       0.87      0.72      0.79      1847\n",
            "      class4       0.77      0.89      0.83       998\n",
            "\n",
            "    accuracy                           0.80      6776\n",
            "   macro avg       0.80      0.82      0.80      6776\n",
            "weighted avg       0.81      0.80      0.80      6776\n",
            "\n"
          ],
          "name": "stdout"
        }
      ]
    },
    {
      "cell_type": "code",
      "metadata": {
        "id": "2x9eBlfgpv6Y"
      },
      "source": [
        "y_test_pred=model.predict(x_test['Phrase'])"
      ],
      "execution_count": 79,
      "outputs": []
    },
    {
      "cell_type": "code",
      "metadata": {
        "colab": {
          "base_uri": "https://localhost:8080/"
        },
        "id": "nMjCYWh1qAlE",
        "outputId": "f8dbd850-62df-4c08-fdd7-a80d42fe2160"
      },
      "source": [
        "sentiment = ['class 0', 'class 1', 'class 2','class3', 'class4']\n",
        "print(classification_report(y_test, y_test_pred, target_names=sentiment))"
      ],
      "execution_count": 80,
      "outputs": [
        {
          "output_type": "stream",
          "text": [
            "              precision    recall  f1-score   support\n",
            "\n",
            "     class 0       0.36      0.46      0.40       206\n",
            "     class 1       0.46      0.44      0.45       449\n",
            "     class 2       0.35      0.35      0.35       341\n",
            "      class3       0.49      0.41      0.44       474\n",
            "      class4       0.53      0.59      0.56       283\n",
            "\n",
            "    accuracy                           0.44      1753\n",
            "   macro avg       0.44      0.45      0.44      1753\n",
            "weighted avg       0.44      0.44      0.44      1753\n",
            "\n"
          ],
          "name": "stdout"
        }
      ]
    },
    {
      "cell_type": "markdown",
      "metadata": {
        "id": "6chFzmdwzPc8"
      },
      "source": [
        "gridsearchcv"
      ]
    },
    {
      "cell_type": "code",
      "metadata": {
        "id": "nsoyQFulzSIK"
      },
      "source": [
        "from sklearn.model_selection import GridSearchCV"
      ],
      "execution_count": 58,
      "outputs": []
    },
    {
      "cell_type": "code",
      "metadata": {
        "id": "U4ZoYfYCzSUp"
      },
      "source": [
        "clf = GridSearchCV(\n",
        "      SVC(), tuned_parameters, scoring='%s_macro' % score\n",
        "  )\n",
        " "
      ],
      "execution_count": null,
      "outputs": []
    },
    {
      "cell_type": "code",
      "metadata": {
        "id": "KIUT8TKRzSeg"
      },
      "source": [
        "clf.fit(X_train, y_train)\n",
        "\n",
        "print(\"Best parameters set found on development set:\")\n",
        "print()\n",
        "print(clf.best_params_)"
      ],
      "execution_count": null,
      "outputs": []
    },
    {
      "cell_type": "markdown",
      "metadata": {
        "id": "jm-_8gRTd96m"
      },
      "source": [
        "with two outputs"
      ]
    },
    {
      "cell_type": "code",
      "metadata": {
        "colab": {
          "base_uri": "https://localhost:8080/"
        },
        "id": "KA1brHJJeBkA",
        "outputId": "1a2ea49d-7abd-482a-af5c-c3797a1de9b6"
      },
      "source": [
        "model.fit(x_train[\"Phrase\"], y_train)"
      ],
      "execution_count": 30,
      "outputs": [
        {
          "output_type": "stream",
          "text": [
            "[Pipeline] ........ (step 1 of 3) Processing vectorizer, total= 1.2min\n",
            "[Pipeline] ............ (step 2 of 3) Processing scaler, total=   0.1s\n",
            "[LibSVM][Pipeline] ........ (step 3 of 3) Processing classifier, total= 1.1min\n"
          ],
          "name": "stdout"
        },
        {
          "output_type": "stream",
          "text": [
            "/usr/local/lib/python3.7/dist-packages/sklearn/base.py:197: FutureWarning: From version 0.24, get_params will raise an AttributeError if a parameter cannot be retrieved as an instance attribute. Previously it would return None.\n",
            "  FutureWarning)\n"
          ],
          "name": "stderr"
        },
        {
          "output_type": "execute_result",
          "data": {
            "text/plain": [
              "Pipeline(memory=None,\n",
              "         steps=[('vectorizer',\n",
              "                 BertTransformer(bert_model=None, bert_tokenizer=None,\n",
              "                                 embedding_func=<function BertTransformer.__init__.<locals>.<lambda> at 0x7f71bbfe1b00>,\n",
              "                                 max_length=60)),\n",
              "                ('scaler',\n",
              "                 StandardScaler(copy=True, with_mean=True, with_std=True)),\n",
              "                ('classifier',\n",
              "                 SVC(C=1.0, break_ties=False, cache_size=200,\n",
              "                     class_weight='balanced', coef0=0.0,\n",
              "                     decision_function_shape='ovr', degree=3, gamma='scale',\n",
              "                     kernel='rbf', max_iter=-1, probability=False,\n",
              "                     random_state=None, shrinking=True, tol=0.001,\n",
              "                     verbose=2))],\n",
              "         verbose=True)"
            ]
          },
          "metadata": {
            "tags": []
          },
          "execution_count": 30
        }
      ]
    },
    {
      "cell_type": "code",
      "metadata": {
        "colab": {
          "base_uri": "https://localhost:8080/"
        },
        "id": "Ey5CgL2BeBz7",
        "outputId": "4c09b16c-fc7d-4237-cdcf-30835c5cd8b7"
      },
      "source": [
        " model.score(x_test['Phrase'], y_test)"
      ],
      "execution_count": 31,
      "outputs": [
        {
          "output_type": "execute_result",
          "data": {
            "text/plain": [
              "0.4192601291837933"
            ]
          },
          "metadata": {
            "tags": []
          },
          "execution_count": 31
        }
      ]
    },
    {
      "cell_type": "markdown",
      "metadata": {
        "id": "ThgpTAHGrQGg"
      },
      "source": [
        "Data Augmentation"
      ]
    },
    {
      "cell_type": "code",
      "metadata": {
        "colab": {
          "base_uri": "https://localhost:8080/"
        },
        "id": "hCLR3BLHTt-E",
        "outputId": "60a30b1e-2eec-40bf-f266-b7d38f632cd1"
      },
      "source": [
        "!pip install textaugment"
      ],
      "execution_count": null,
      "outputs": [
        {
          "output_type": "stream",
          "text": [
            "Collecting textaugment\n",
            "  Downloading https://files.pythonhosted.org/packages/2c/63/9960414280dba3d9eba332502231d69fdc8ba664a4bd3d46842ba8cf0ef2/textaugment-1.3.4-py3-none-any.whl\n",
            "Requirement already satisfied: numpy in /usr/local/lib/python3.7/dist-packages (from textaugment) (1.19.5)\n",
            "Collecting googletrans\n",
            "  Downloading https://files.pythonhosted.org/packages/71/3a/3b19effdd4c03958b90f40fe01c93de6d5280e03843cc5adf6956bfc9512/googletrans-3.0.0.tar.gz\n",
            "Requirement already satisfied: nltk in /usr/local/lib/python3.7/dist-packages (from textaugment) (3.2.5)\n",
            "Requirement already satisfied: gensim in /usr/local/lib/python3.7/dist-packages (from textaugment) (3.6.0)\n",
            "Requirement already satisfied: textblob in /usr/local/lib/python3.7/dist-packages (from textaugment) (0.15.3)\n",
            "Collecting httpx==0.13.3\n",
            "\u001b[?25l  Downloading https://files.pythonhosted.org/packages/54/b4/698b284c6aed4d7c2b4fe3ba5df1fcf6093612423797e76fbb24890dd22f/httpx-0.13.3-py3-none-any.whl (55kB)\n",
            "\u001b[K     |████████████████████████████████| 61kB 5.2MB/s \n",
            "\u001b[?25hRequirement already satisfied: six in /usr/local/lib/python3.7/dist-packages (from nltk->textaugment) (1.15.0)\n",
            "Requirement already satisfied: smart-open>=1.2.1 in /usr/local/lib/python3.7/dist-packages (from gensim->textaugment) (4.2.0)\n",
            "Requirement already satisfied: scipy>=0.18.1 in /usr/local/lib/python3.7/dist-packages (from gensim->textaugment) (1.4.1)\n",
            "Requirement already satisfied: idna==2.* in /usr/local/lib/python3.7/dist-packages (from httpx==0.13.3->googletrans->textaugment) (2.10)\n",
            "Collecting httpcore==0.9.*\n",
            "\u001b[?25l  Downloading https://files.pythonhosted.org/packages/dd/d5/e4ff9318693ac6101a2095e580908b591838c6f33df8d3ee8dd953ba96a8/httpcore-0.9.1-py3-none-any.whl (42kB)\n",
            "\u001b[K     |████████████████████████████████| 51kB 6.4MB/s \n",
            "\u001b[?25hCollecting sniffio\n",
            "  Downloading https://files.pythonhosted.org/packages/52/b0/7b2e028b63d092804b6794595871f936aafa5e9322dcaaad50ebf67445b3/sniffio-1.2.0-py3-none-any.whl\n",
            "Requirement already satisfied: certifi in /usr/local/lib/python3.7/dist-packages (from httpx==0.13.3->googletrans->textaugment) (2020.12.5)\n",
            "Collecting rfc3986<2,>=1.3\n",
            "  Downloading https://files.pythonhosted.org/packages/78/be/7b8b99fd74ff5684225f50dd0e865393d2265656ef3b4ba9eaaaffe622b8/rfc3986-1.4.0-py2.py3-none-any.whl\n",
            "Requirement already satisfied: chardet==3.* in /usr/local/lib/python3.7/dist-packages (from httpx==0.13.3->googletrans->textaugment) (3.0.4)\n",
            "Collecting hstspreload\n",
            "\u001b[?25l  Downloading https://files.pythonhosted.org/packages/dd/50/606213e12fb49c5eb667df0936223dcaf461f94e215ea60244b2b1e9b039/hstspreload-2020.12.22-py3-none-any.whl (994kB)\n",
            "\u001b[K     |████████████████████████████████| 1.0MB 12.7MB/s \n",
            "\u001b[?25hCollecting h2==3.*\n",
            "\u001b[?25l  Downloading https://files.pythonhosted.org/packages/25/de/da019bcc539eeab02f6d45836f23858ac467f584bfec7a526ef200242afe/h2-3.2.0-py2.py3-none-any.whl (65kB)\n",
            "\u001b[K     |████████████████████████████████| 71kB 8.8MB/s \n",
            "\u001b[?25hCollecting h11<0.10,>=0.8\n",
            "\u001b[?25l  Downloading https://files.pythonhosted.org/packages/5a/fd/3dad730b0f95e78aeeb742f96fa7bbecbdd56a58e405d3da440d5bfb90c6/h11-0.9.0-py2.py3-none-any.whl (53kB)\n",
            "\u001b[K     |████████████████████████████████| 61kB 9.9MB/s \n",
            "\u001b[?25hCollecting hyperframe<6,>=5.2.0\n",
            "  Downloading https://files.pythonhosted.org/packages/19/0c/bf88182bcb5dce3094e2f3e4fe20db28a9928cb7bd5b08024030e4b140db/hyperframe-5.2.0-py2.py3-none-any.whl\n",
            "Collecting hpack<4,>=3.0\n",
            "  Downloading https://files.pythonhosted.org/packages/8a/cc/e53517f4a1e13f74776ca93271caef378dadec14d71c61c949d759d3db69/hpack-3.0.0-py2.py3-none-any.whl\n",
            "Building wheels for collected packages: googletrans\n",
            "  Building wheel for googletrans (setup.py) ... \u001b[?25l\u001b[?25hdone\n",
            "  Created wheel for googletrans: filename=googletrans-3.0.0-cp37-none-any.whl size=15737 sha256=0874668a8db5c9b28a791577909c773e8ae44fc0237696ccc3b7ab92e3385a81\n",
            "  Stored in directory: /root/.cache/pip/wheels/28/1a/a7/eaf4d7a3417a0c65796c547cff4deb6d79c7d14c2abd29273e\n",
            "Successfully built googletrans\n",
            "Installing collected packages: hyperframe, hpack, h2, h11, sniffio, httpcore, rfc3986, hstspreload, httpx, googletrans, textaugment\n",
            "Successfully installed googletrans-3.0.0 h11-0.9.0 h2-3.2.0 hpack-3.0.0 hstspreload-2020.12.22 httpcore-0.9.1 httpx-0.13.3 hyperframe-5.2.0 rfc3986-1.4.0 sniffio-1.2.0 textaugment-1.3.4\n"
          ],
          "name": "stdout"
        }
      ]
    },
    {
      "cell_type": "code",
      "metadata": {
        "id": "aMJsEEd3AbWc"
      },
      "source": [
        "from textaugment import Word2vec\n",
        "import gensim\n",
        "import gdown"
      ],
      "execution_count": null,
      "outputs": []
    },
    {
      "cell_type": "markdown",
      "metadata": {
        "id": "aYsUED8drVOv"
      },
      "source": [
        "Word2vec embedding"
      ]
    },
    {
      "cell_type": "code",
      "metadata": {
        "colab": {
          "base_uri": "https://localhost:8080/",
          "height": 105
        },
        "id": "uao7K9PXNwDO",
        "outputId": "5e1a3ab5-5942-4ed5-bcc0-f9b87a4a17b7"
      },
      "source": [
        "url ='https://drive.google.com/uc?id=0B7XkCwpI5KDYNlNUTTlSS21pQmM'\n",
        "output = 'GoogleNews-vectors-negative300.bin.gz'\n",
        "gdown.download(url, output, quiet=False)"
      ],
      "execution_count": null,
      "outputs": [
        {
          "output_type": "stream",
          "text": [
            "Downloading...\n",
            "From: https://drive.google.com/uc?id=0B7XkCwpI5KDYNlNUTTlSS21pQmM\n",
            "To: /content/GoogleNews-vectors-negative300.bin.gz\n",
            "1.65GB [00:09, 180MB/s]\n"
          ],
          "name": "stderr"
        },
        {
          "output_type": "execute_result",
          "data": {
            "application/vnd.google.colaboratory.intrinsic+json": {
              "type": "string"
            },
            "text/plain": [
              "'GoogleNews-vectors-negative300.bin.gz'"
            ]
          },
          "metadata": {
            "tags": []
          },
          "execution_count": 22
        }
      ]
    },
    {
      "cell_type": "code",
      "metadata": {
        "id": "uwpimfAn3dwK"
      },
      "source": [
        "!gzip -d /content/GoogleNews-vectors-negative300.bin.gz"
      ],
      "execution_count": null,
      "outputs": []
    },
    {
      "cell_type": "code",
      "metadata": {
        "id": "I5xkn1IQL8m7"
      },
      "source": [
        "genModel = gensim.models.KeyedVectors.load_word2vec_format('/content/GoogleNews-vectors-negative300.bin', binary=True, limit=10000)"
      ],
      "execution_count": null,
      "outputs": []
    },
    {
      "cell_type": "code",
      "metadata": {
        "colab": {
          "base_uri": "https://localhost:8080/",
          "height": 37
        },
        "id": "KMiFZtvHLDX0",
        "outputId": "50d4a78e-c742-44f2-9a01-42214ffbf9af"
      },
      "source": [
        "t = Word2vec(model=genModel)\n",
        "t.augment('The stories are good')"
      ],
      "execution_count": null,
      "outputs": [
        {
          "output_type": "execute_result",
          "data": {
            "application/vnd.google.colaboratory.intrinsic+json": {
              "type": "string"
            },
            "text/plain": [
              "'another headlines were good'"
            ]
          },
          "metadata": {
            "tags": []
          },
          "execution_count": 26
        }
      ]
    },
    {
      "cell_type": "code",
      "metadata": {
        "colab": {
          "base_uri": "https://localhost:8080/",
          "height": 37
        },
        "id": "Ts_3ZQeqZSek",
        "outputId": "33bf61d1-21aa-411e-ddf2-74da5d4669a6"
      },
      "source": [
        "runs = 1 # By default.\n",
        "v = False # verbose mode to replace all the words. If enabled runs is not effective. Used in this paper (https://www.cs.cmu.edu/~diyiy/docs/emnlp_wang_2015.pdf)\n",
        "p = 0.5 # The probability of success of an individual trial. (0.1<p<1.0), default is 0.5. Used by Geometric distribution to selects words from a sentence.\n",
        "t = Word2vec(model=genModel, runs=5, v=False, p=0.5)\n",
        "t.augment('The stories are good')"
      ],
      "execution_count": null,
      "outputs": [
        {
          "output_type": "execute_result",
          "data": {
            "application/vnd.google.colaboratory.intrinsic+json": {
              "type": "string"
            },
            "text/plain": [
              "'another story was great'"
            ]
          },
          "metadata": {
            "tags": []
          },
          "execution_count": 40
        }
      ]
    },
    {
      "cell_type": "code",
      "metadata": {
        "id": "M8ChWE6KkUli"
      },
      "source": [
        "aug_data = []\n",
        "aug_sentiment = []\n",
        "for index, row in data.iterrows():\n",
        "  aug_data.append(t.augment(row['Phrase']))\n",
        "  aug_sentiment.append(row['Sentiment'])"
      ],
      "execution_count": null,
      "outputs": []
    },
    {
      "cell_type": "code",
      "metadata": {
        "id": "oYb5OMYscRPA"
      },
      "source": [
        "new_data = {'Phrase':aug_data, 'Sentiment':aug_sentiment}\n",
        "newData_df = data.append(pd.DataFrame(new_data))"
      ],
      "execution_count": null,
      "outputs": []
    },
    {
      "cell_type": "code",
      "metadata": {
        "colab": {
          "base_uri": "https://localhost:8080/"
        },
        "id": "wMhJSGf0e0dM",
        "outputId": "b2ab37e8-6980-4cd3-ccd7-2a63ef652c6d"
      },
      "source": [
        "newData_df.shape[0]"
      ],
      "execution_count": null,
      "outputs": [
        {
          "output_type": "execute_result",
          "data": {
            "text/plain": [
              "17058"
            ]
          },
          "metadata": {
            "tags": []
          },
          "execution_count": 52
        }
      ]
    },
    {
      "cell_type": "code",
      "metadata": {
        "id": "wLBTecfeo7FE"
      },
      "source": [
        "split = np.random.choice(\n",
        "    [\"train\", \"test\"],\n",
        "    size=newData_df.shape[0],\n",
        "    p=[.8, .2]\n",
        ")"
      ],
      "execution_count": null,
      "outputs": []
    },
    {
      "cell_type": "code",
      "metadata": {
        "id": "FKIaO6XUZH0T"
      },
      "source": [
        "newData_df[\"split\"] = split"
      ],
      "execution_count": null,
      "outputs": []
    },
    {
      "cell_type": "code",
      "metadata": {
        "id": "gfdeE2EsZ66B"
      },
      "source": [
        "x_train = newData_df[newData_df[\"split\"] == \"train\"]\n",
        "y_train = x_train[\"Sentiment\"]"
      ],
      "execution_count": null,
      "outputs": []
    },
    {
      "cell_type": "code",
      "metadata": {
        "colab": {
          "base_uri": "https://localhost:8080/"
        },
        "id": "7nYagShFduha",
        "outputId": "d0239dc7-91e1-419e-e1aa-9fe0fb17820d"
      },
      "source": [
        "x_train['Phrase'].apply(lambda x: x.split()).apply(len).max()"
      ],
      "execution_count": null,
      "outputs": [
        {
          "output_type": "execute_result",
          "data": {
            "text/plain": [
              "52"
            ]
          },
          "metadata": {
            "tags": []
          },
          "execution_count": 56
        }
      ]
    },
    {
      "cell_type": "code",
      "metadata": {
        "colab": {
          "base_uri": "https://localhost:8080/"
        },
        "id": "P_g_Z6lgd61s",
        "outputId": "95593391-8787-412e-970a-3c7bd32b643e"
      },
      "source": [
        "model.fit(x_train['Phrase'], y_train)"
      ],
      "execution_count": null,
      "outputs": [
        {
          "output_type": "stream",
          "text": [
            "[Pipeline] ........ (step 1 of 3) Processing vectorizer, total= 1.9min\n",
            "[Pipeline] ............ (step 2 of 3) Processing scaler, total=   0.2s\n",
            "[LibSVM][Pipeline] ........ (step 3 of 3) Processing classifier, total= 4.4min\n"
          ],
          "name": "stdout"
        },
        {
          "output_type": "stream",
          "text": [
            "/usr/local/lib/python3.7/dist-packages/sklearn/base.py:197: FutureWarning: From version 0.24, get_params will raise an AttributeError if a parameter cannot be retrieved as an instance attribute. Previously it would return None.\n",
            "  FutureWarning)\n"
          ],
          "name": "stderr"
        },
        {
          "output_type": "execute_result",
          "data": {
            "text/plain": [
              "Pipeline(memory=None,\n",
              "         steps=[('vectorizer',\n",
              "                 BertTransformer(bert_model=None, bert_tokenizer=None,\n",
              "                                 embedding_func=<function BertTransformer.__init__.<locals>.<lambda> at 0x7f42570cfa70>,\n",
              "                                 max_length=60)),\n",
              "                ('scaler',\n",
              "                 StandardScaler(copy=True, with_mean=True, with_std=True)),\n",
              "                ('classifier',\n",
              "                 SVC(C=1.0, break_ties=False, cache_size=200,\n",
              "                     class_weight='balanced', coef0=0.0,\n",
              "                     decision_function_shape='ovr', degree=3, gamma='scale',\n",
              "                     kernel='rbf', max_iter=-1, probability=False,\n",
              "                     random_state=None, shrinking=True, tol=0.001,\n",
              "                     verbose=2))],\n",
              "         verbose=True)"
            ]
          },
          "metadata": {
            "tags": []
          },
          "execution_count": 57
        }
      ]
    },
    {
      "cell_type": "code",
      "metadata": {
        "id": "deg7Cl1weBly"
      },
      "source": [
        "x_test = newData_df[newData_df[\"split\"] == \"test\"]\n",
        "y_test = x_test[\"Sentiment\"]"
      ],
      "execution_count": null,
      "outputs": []
    },
    {
      "cell_type": "code",
      "metadata": {
        "colab": {
          "base_uri": "https://localhost:8080/"
        },
        "id": "eQYG25TjZ-Vr",
        "outputId": "1ac2713e-4995-48e3-9ff5-365c7159e973"
      },
      "source": [
        "model.score(x_test['Phrase'], y_test)"
      ],
      "execution_count": null,
      "outputs": [
        {
          "output_type": "execute_result",
          "data": {
            "text/plain": [
              "0.4273528575490475"
            ]
          },
          "metadata": {
            "tags": []
          },
          "execution_count": 61
        }
      ]
    },
    {
      "cell_type": "markdown",
      "metadata": {
        "id": "xyma-ZAqvvSe"
      },
      "source": [
        "Data Augmentation using Pegasus transformer"
      ]
    },
    {
      "cell_type": "code",
      "metadata": {
        "colab": {
          "base_uri": "https://localhost:8080/"
        },
        "id": "_s01IGJnxZkj",
        "outputId": "7e084d39-b28e-4ae0-90e9-50b19fc9a705"
      },
      "source": [
        "!pip install sentencepiece"
      ],
      "execution_count": null,
      "outputs": [
        {
          "output_type": "stream",
          "text": [
            "Collecting sentencepiece\n",
            "\u001b[?25l  Downloading https://files.pythonhosted.org/packages/f5/99/e0808cb947ba10f575839c43e8fafc9cc44e4a7a2c8f79c60db48220a577/sentencepiece-0.1.95-cp37-cp37m-manylinux2014_x86_64.whl (1.2MB)\n",
            "\r\u001b[K     |▎                               | 10kB 18.3MB/s eta 0:00:01\r\u001b[K     |▌                               | 20kB 25.5MB/s eta 0:00:01\r\u001b[K     |▉                               | 30kB 21.6MB/s eta 0:00:01\r\u001b[K     |█                               | 40kB 18.3MB/s eta 0:00:01\r\u001b[K     |█▍                              | 51kB 12.7MB/s eta 0:00:01\r\u001b[K     |█▋                              | 61kB 12.8MB/s eta 0:00:01\r\u001b[K     |██                              | 71kB 12.7MB/s eta 0:00:01\r\u001b[K     |██▏                             | 81kB 13.3MB/s eta 0:00:01\r\u001b[K     |██▌                             | 92kB 12.1MB/s eta 0:00:01\r\u001b[K     |██▊                             | 102kB 12.3MB/s eta 0:00:01\r\u001b[K     |███                             | 112kB 12.3MB/s eta 0:00:01\r\u001b[K     |███▎                            | 122kB 12.3MB/s eta 0:00:01\r\u001b[K     |███▌                            | 133kB 12.3MB/s eta 0:00:01\r\u001b[K     |███▉                            | 143kB 12.3MB/s eta 0:00:01\r\u001b[K     |████                            | 153kB 12.3MB/s eta 0:00:01\r\u001b[K     |████▍                           | 163kB 12.3MB/s eta 0:00:01\r\u001b[K     |████▋                           | 174kB 12.3MB/s eta 0:00:01\r\u001b[K     |█████                           | 184kB 12.3MB/s eta 0:00:01\r\u001b[K     |█████▏                          | 194kB 12.3MB/s eta 0:00:01\r\u001b[K     |█████▌                          | 204kB 12.3MB/s eta 0:00:01\r\u001b[K     |█████▊                          | 215kB 12.3MB/s eta 0:00:01\r\u001b[K     |██████                          | 225kB 12.3MB/s eta 0:00:01\r\u001b[K     |██████▎                         | 235kB 12.3MB/s eta 0:00:01\r\u001b[K     |██████▌                         | 245kB 12.3MB/s eta 0:00:01\r\u001b[K     |██████▉                         | 256kB 12.3MB/s eta 0:00:01\r\u001b[K     |███████                         | 266kB 12.3MB/s eta 0:00:01\r\u001b[K     |███████▍                        | 276kB 12.3MB/s eta 0:00:01\r\u001b[K     |███████▋                        | 286kB 12.3MB/s eta 0:00:01\r\u001b[K     |████████                        | 296kB 12.3MB/s eta 0:00:01\r\u001b[K     |████████▏                       | 307kB 12.3MB/s eta 0:00:01\r\u001b[K     |████████▍                       | 317kB 12.3MB/s eta 0:00:01\r\u001b[K     |████████▊                       | 327kB 12.3MB/s eta 0:00:01\r\u001b[K     |█████████                       | 337kB 12.3MB/s eta 0:00:01\r\u001b[K     |█████████▎                      | 348kB 12.3MB/s eta 0:00:01\r\u001b[K     |█████████▌                      | 358kB 12.3MB/s eta 0:00:01\r\u001b[K     |█████████▉                      | 368kB 12.3MB/s eta 0:00:01\r\u001b[K     |██████████                      | 378kB 12.3MB/s eta 0:00:01\r\u001b[K     |██████████▍                     | 389kB 12.3MB/s eta 0:00:01\r\u001b[K     |██████████▋                     | 399kB 12.3MB/s eta 0:00:01\r\u001b[K     |███████████                     | 409kB 12.3MB/s eta 0:00:01\r\u001b[K     |███████████▏                    | 419kB 12.3MB/s eta 0:00:01\r\u001b[K     |███████████▍                    | 430kB 12.3MB/s eta 0:00:01\r\u001b[K     |███████████▊                    | 440kB 12.3MB/s eta 0:00:01\r\u001b[K     |████████████                    | 450kB 12.3MB/s eta 0:00:01\r\u001b[K     |████████████▎                   | 460kB 12.3MB/s eta 0:00:01\r\u001b[K     |████████████▌                   | 471kB 12.3MB/s eta 0:00:01\r\u001b[K     |████████████▉                   | 481kB 12.3MB/s eta 0:00:01\r\u001b[K     |█████████████                   | 491kB 12.3MB/s eta 0:00:01\r\u001b[K     |█████████████▍                  | 501kB 12.3MB/s eta 0:00:01\r\u001b[K     |█████████████▋                  | 512kB 12.3MB/s eta 0:00:01\r\u001b[K     |█████████████▉                  | 522kB 12.3MB/s eta 0:00:01\r\u001b[K     |██████████████▏                 | 532kB 12.3MB/s eta 0:00:01\r\u001b[K     |██████████████▍                 | 542kB 12.3MB/s eta 0:00:01\r\u001b[K     |██████████████▊                 | 552kB 12.3MB/s eta 0:00:01\r\u001b[K     |███████████████                 | 563kB 12.3MB/s eta 0:00:01\r\u001b[K     |███████████████▎                | 573kB 12.3MB/s eta 0:00:01\r\u001b[K     |███████████████▌                | 583kB 12.3MB/s eta 0:00:01\r\u001b[K     |███████████████▉                | 593kB 12.3MB/s eta 0:00:01\r\u001b[K     |████████████████                | 604kB 12.3MB/s eta 0:00:01\r\u001b[K     |████████████████▍               | 614kB 12.3MB/s eta 0:00:01\r\u001b[K     |████████████████▋               | 624kB 12.3MB/s eta 0:00:01\r\u001b[K     |████████████████▉               | 634kB 12.3MB/s eta 0:00:01\r\u001b[K     |█████████████████▏              | 645kB 12.3MB/s eta 0:00:01\r\u001b[K     |█████████████████▍              | 655kB 12.3MB/s eta 0:00:01\r\u001b[K     |█████████████████▊              | 665kB 12.3MB/s eta 0:00:01\r\u001b[K     |██████████████████              | 675kB 12.3MB/s eta 0:00:01\r\u001b[K     |██████████████████▎             | 686kB 12.3MB/s eta 0:00:01\r\u001b[K     |██████████████████▌             | 696kB 12.3MB/s eta 0:00:01\r\u001b[K     |██████████████████▉             | 706kB 12.3MB/s eta 0:00:01\r\u001b[K     |███████████████████             | 716kB 12.3MB/s eta 0:00:01\r\u001b[K     |███████████████████▎            | 727kB 12.3MB/s eta 0:00:01\r\u001b[K     |███████████████████▋            | 737kB 12.3MB/s eta 0:00:01\r\u001b[K     |███████████████████▉            | 747kB 12.3MB/s eta 0:00:01\r\u001b[K     |████████████████████▏           | 757kB 12.3MB/s eta 0:00:01\r\u001b[K     |████████████████████▍           | 768kB 12.3MB/s eta 0:00:01\r\u001b[K     |████████████████████▊           | 778kB 12.3MB/s eta 0:00:01\r\u001b[K     |█████████████████████           | 788kB 12.3MB/s eta 0:00:01\r\u001b[K     |█████████████████████▎          | 798kB 12.3MB/s eta 0:00:01\r\u001b[K     |█████████████████████▌          | 808kB 12.3MB/s eta 0:00:01\r\u001b[K     |█████████████████████▉          | 819kB 12.3MB/s eta 0:00:01\r\u001b[K     |██████████████████████          | 829kB 12.3MB/s eta 0:00:01\r\u001b[K     |██████████████████████▎         | 839kB 12.3MB/s eta 0:00:01\r\u001b[K     |██████████████████████▋         | 849kB 12.3MB/s eta 0:00:01\r\u001b[K     |██████████████████████▉         | 860kB 12.3MB/s eta 0:00:01\r\u001b[K     |███████████████████████▏        | 870kB 12.3MB/s eta 0:00:01\r\u001b[K     |███████████████████████▍        | 880kB 12.3MB/s eta 0:00:01\r\u001b[K     |███████████████████████▊        | 890kB 12.3MB/s eta 0:00:01\r\u001b[K     |████████████████████████        | 901kB 12.3MB/s eta 0:00:01\r\u001b[K     |████████████████████████▎       | 911kB 12.3MB/s eta 0:00:01\r\u001b[K     |████████████████████████▌       | 921kB 12.3MB/s eta 0:00:01\r\u001b[K     |████████████████████████▊       | 931kB 12.3MB/s eta 0:00:01\r\u001b[K     |█████████████████████████       | 942kB 12.3MB/s eta 0:00:01\r\u001b[K     |█████████████████████████▎      | 952kB 12.3MB/s eta 0:00:01\r\u001b[K     |█████████████████████████▋      | 962kB 12.3MB/s eta 0:00:01\r\u001b[K     |█████████████████████████▉      | 972kB 12.3MB/s eta 0:00:01\r\u001b[K     |██████████████████████████▏     | 983kB 12.3MB/s eta 0:00:01\r\u001b[K     |██████████████████████████▍     | 993kB 12.3MB/s eta 0:00:01\r\u001b[K     |██████████████████████████▊     | 1.0MB 12.3MB/s eta 0:00:01\r\u001b[K     |███████████████████████████     | 1.0MB 12.3MB/s eta 0:00:01\r\u001b[K     |███████████████████████████▎    | 1.0MB 12.3MB/s eta 0:00:01\r\u001b[K     |███████████████████████████▌    | 1.0MB 12.3MB/s eta 0:00:01\r\u001b[K     |███████████████████████████▊    | 1.0MB 12.3MB/s eta 0:00:01\r\u001b[K     |████████████████████████████    | 1.1MB 12.3MB/s eta 0:00:01\r\u001b[K     |████████████████████████████▎   | 1.1MB 12.3MB/s eta 0:00:01\r\u001b[K     |████████████████████████████▋   | 1.1MB 12.3MB/s eta 0:00:01\r\u001b[K     |████████████████████████████▉   | 1.1MB 12.3MB/s eta 0:00:01\r\u001b[K     |█████████████████████████████▏  | 1.1MB 12.3MB/s eta 0:00:01\r\u001b[K     |█████████████████████████████▍  | 1.1MB 12.3MB/s eta 0:00:01\r\u001b[K     |█████████████████████████████▊  | 1.1MB 12.3MB/s eta 0:00:01\r\u001b[K     |██████████████████████████████  | 1.1MB 12.3MB/s eta 0:00:01\r\u001b[K     |██████████████████████████████▏ | 1.1MB 12.3MB/s eta 0:00:01\r\u001b[K     |██████████████████████████████▌ | 1.1MB 12.3MB/s eta 0:00:01\r\u001b[K     |██████████████████████████████▊ | 1.2MB 12.3MB/s eta 0:00:01\r\u001b[K     |███████████████████████████████ | 1.2MB 12.3MB/s eta 0:00:01\r\u001b[K     |███████████████████████████████▎| 1.2MB 12.3MB/s eta 0:00:01\r\u001b[K     |███████████████████████████████▋| 1.2MB 12.3MB/s eta 0:00:01\r\u001b[K     |███████████████████████████████▉| 1.2MB 12.3MB/s eta 0:00:01\r\u001b[K     |████████████████████████████████| 1.2MB 12.3MB/s \n",
            "\u001b[?25hInstalling collected packages: sentencepiece\n",
            "Successfully installed sentencepiece-0.1.95\n"
          ],
          "name": "stdout"
        }
      ]
    },
    {
      "cell_type": "code",
      "metadata": {
        "id": "JMDrs26Xv4II"
      },
      "source": [
        "import torch\n",
        "import sentencepiece\n",
        "from transformers import PegasusForConditionalGeneration, PegasusTokenizer"
      ],
      "execution_count": null,
      "outputs": []
    },
    {
      "cell_type": "code",
      "metadata": {
        "colab": {
          "base_uri": "https://localhost:8080/",
          "height": 115,
          "referenced_widgets": [
            "6a58f31e956847729dc9a806b197c3d3",
            "0e83025df98b4610a7d354dfd30aefe4",
            "d08e78e5599f47da97fd72586e26b690",
            "d1a0d04954694e878ca865357c069a7a",
            "738a1f724ce343ab97ccd449c4a070c5",
            "09da9976496c439a966e74c7617849ff",
            "1cd02e3d72764118ac1d0ed7b2517b19",
            "43f25390469049f8aaee3184ce1e75e9",
            "b72b3150339940e19fa58675662b10d8",
            "ad72af46c8c140ef83587cedddde8a4f",
            "5fdf1fe7dbe04eb69799c54915e80766",
            "aa9ecabb0722473393ece85bf3d53b98",
            "d9123f0cddda4529ae205808557a27d7",
            "fccac8eea854460fb941e46e619b9b92",
            "fdf0227663d84d0080d5fe83b3e272b9",
            "a965955a034b459fba358af8573cb9b6"
          ]
        },
        "id": "KnPNR9zzniQP",
        "outputId": "0e548861-471b-4c4d-a85a-9e269beb29d6"
      },
      "source": [
        "model_name = 'tuner007/pegasus_paraphrase'\n",
        "torch_device = 'cuda' if torch.cuda.is_available() else 'cpu'\n",
        "tokenizer = PegasusTokenizer.from_pretrained(model_name)\n",
        "Pegmodel = PegasusForConditionalGeneration.from_pretrained(model_name).to(torch_device)\n",
        "\n",
        "def get_response(input_text,num_return_sequences,num_beams):\n",
        "  batch = tokenizer([input_text],truncation=True,padding='longest',max_length=60, return_tensors=\"pt\").to(torch_device)\n",
        "  translated = model.generate(**batch,max_length=60,num_beams=num_beams, num_return_sequences=num_return_sequences, temperature=1.5)\n",
        "  tgt_text = tokenizer.batch_decode(translated, skip_special_tokens=True)\n",
        "  return tgt_text"
      ],
      "execution_count": null,
      "outputs": [
        {
          "output_type": "display_data",
          "data": {
            "application/vnd.jupyter.widget-view+json": {
              "model_id": "6a58f31e956847729dc9a806b197c3d3",
              "version_major": 2,
              "version_minor": 0
            },
            "text/plain": [
              "HBox(children=(FloatProgress(value=0.0, description='Downloading', max=1142.0, style=ProgressStyle(description…"
            ]
          },
          "metadata": {
            "tags": []
          }
        },
        {
          "output_type": "stream",
          "text": [
            "\n"
          ],
          "name": "stdout"
        },
        {
          "output_type": "display_data",
          "data": {
            "application/vnd.jupyter.widget-view+json": {
              "model_id": "b72b3150339940e19fa58675662b10d8",
              "version_major": 2,
              "version_minor": 0
            },
            "text/plain": [
              "HBox(children=(FloatProgress(value=0.0, description='Downloading', max=2275437102.0, style=ProgressStyle(descr…"
            ]
          },
          "metadata": {
            "tags": []
          }
        },
        {
          "output_type": "stream",
          "text": [
            "\n"
          ],
          "name": "stdout"
        }
      ]
    },
    {
      "cell_type": "markdown",
      "metadata": {
        "id": "WDOL1UKnCYa6"
      },
      "source": [
        "Data Augmentation using Bert"
      ]
    },
    {
      "cell_type": "code",
      "metadata": {
        "id": "7eYvS2Ey0jHx"
      },
      "source": [
        "from transformers import pipeline"
      ],
      "execution_count": null,
      "outputs": []
    },
    {
      "cell_type": "code",
      "metadata": {
        "id": "VFMeQj1g-Ise"
      },
      "source": [
        "def create_pipeline(model_name):\n",
        "   return pipeline('fill-mask', model=model_name)"
      ],
      "execution_count": null,
      "outputs": []
    },
    {
      "cell_type": "code",
      "metadata": {
        "colab": {
          "base_uri": "https://localhost:8080/"
        },
        "id": "6D-lTmE38FJF",
        "outputId": "30021c9b-ee7a-4324-83cc-363d59ab4a5b"
      },
      "source": [
        "predict_mask = create_pipeline(\"bert-base-uncased\")"
      ],
      "execution_count": null,
      "outputs": [
        {
          "output_type": "stream",
          "text": [
            "Some weights of the model checkpoint at bert-base-uncased were not used when initializing BertForMaskedLM: ['cls.seq_relationship.weight', 'cls.seq_relationship.bias']\n",
            "- This IS expected if you are initializing BertForMaskedLM from the checkpoint of a model trained on another task or with another architecture (e.g. initializing a BertForSequenceClassification model from a BertForPreTraining model).\n",
            "- This IS NOT expected if you are initializing BertForMaskedLM from the checkpoint of a model that you expect to be exactly identical (initializing a BertForSequenceClassification model from a BertForSequenceClassification model).\n"
          ],
          "name": "stderr"
        }
      ]
    },
    {
      "cell_type": "code",
      "metadata": {
        "colab": {
          "base_uri": "https://localhost:8080/"
        },
        "id": "JXSSDI6yCJOH",
        "outputId": "6b740bc8-ac6f-40b7-8395-4bcb90ade62b"
      },
      "source": [
        "predict_mask(\"men should wear shirt and [MASK] for tomorrow's event.\")"
      ],
      "execution_count": null,
      "outputs": [
        {
          "output_type": "execute_result",
          "data": {
            "text/plain": [
              "[{'score': 0.3029894232749939,\n",
              "  'sequence': \"men should wear shirt and tie for tomorrow's event.\",\n",
              "  'token': 5495,\n",
              "  'token_str': 'tie'},\n",
              " {'score': 0.2420877367258072,\n",
              "  'sequence': \"men should wear shirt and pants for tomorrow's event.\",\n",
              "  'token': 6471,\n",
              "  'token_str': 'pants'},\n",
              " {'score': 0.18802925944328308,\n",
              "  'sequence': \"men should wear shirt and jeans for tomorrow's event.\",\n",
              "  'token': 6312,\n",
              "  'token_str': 'jeans'},\n",
              " {'score': 0.08707275241613388,\n",
              "  'sequence': \"men should wear shirt and trousers for tomorrow's event.\",\n",
              "  'token': 15292,\n",
              "  'token_str': 'trousers'},\n",
              " {'score': 0.07159349322319031,\n",
              "  'sequence': \"men should wear shirt and shorts for tomorrow's event.\",\n",
              "  'token': 9132,\n",
              "  'token_str': 'shorts'}]"
            ]
          },
          "metadata": {
            "tags": []
          },
          "execution_count": 29
        }
      ]
    },
    {
      "cell_type": "code",
      "metadata": {
        "colab": {
          "base_uri": "https://localhost:8080/"
        },
        "id": "miqO2lRamgx_",
        "outputId": "2e722497-0b53-4c28-f163-cff157006baa"
      },
      "source": [
        "len(a)"
      ],
      "execution_count": null,
      "outputs": [
        {
          "output_type": "execute_result",
          "data": {
            "text/plain": [
              "5"
            ]
          },
          "metadata": {
            "tags": []
          },
          "execution_count": 28
        }
      ]
    },
    {
      "cell_type": "code",
      "metadata": {
        "id": "oB0cQdVtCOUC"
      },
      "source": [
        "def random_mask(text):\n",
        "  text = text.split()\n",
        "  rand_idx = np.random.randint(0, len(text))\n",
        "  text[rand_idx] = '[MASK]'\n",
        "  return ' '.join(text)"
      ],
      "execution_count": null,
      "outputs": []
    },
    {
      "cell_type": "code",
      "metadata": {
        "id": "FTEvGaF5PyII"
      },
      "source": [
        "#data_lens = data['Phrase'].apply(len).describe()\n",
        "#data = data.loc[:, :, data_lens >= 10, :]\n",
        "data = data[data['Phrase'].apply(len)>10]"
      ],
      "execution_count": null,
      "outputs": []
    },
    {
      "cell_type": "code",
      "metadata": {
        "id": "fBcargCuK4D6"
      },
      "source": [
        "masked = []\n",
        "masked_sentiment = []\n",
        "for index, row in data.iterrows():\n",
        "  a=''\n",
        "  a=predict_mask(random_mask(row['Phrase']))\n",
        "  masked.append(a[0]['sequence'])\n",
        "  masked_sentiment.append(row['Sentiment'])"
      ],
      "execution_count": null,
      "outputs": []
    },
    {
      "cell_type": "code",
      "metadata": {
        "id": "H_S6RWpNMvKP"
      },
      "source": [
        "new_bdata = {'Phrase':masked, 'Sentiment':masked_sentiment}\n",
        "newbData_df = data.append(pd.DataFrame(new_bdata))"
      ],
      "execution_count": null,
      "outputs": []
    },
    {
      "cell_type": "code",
      "metadata": {
        "id": "Wl7t6SvbdyNG"
      },
      "source": [
        "split = np.random.choice(\n",
        "    [\"train\", \"test\"],\n",
        "    size=newbData_df.shape[0],\n",
        "    p=[.8, .2]\n",
        ")"
      ],
      "execution_count": null,
      "outputs": []
    },
    {
      "cell_type": "code",
      "metadata": {
        "id": "fhsAuM6keFaZ"
      },
      "source": [
        "newbData_df[\"split\"] = split"
      ],
      "execution_count": null,
      "outputs": []
    },
    {
      "cell_type": "code",
      "metadata": {
        "id": "e1A3yCjYPI4D"
      },
      "source": [
        "x_train = newbData_df[newbData_df[\"split\"] == \"train\"]\n",
        "y_train = x_train[\"Sentiment\"]"
      ],
      "execution_count": null,
      "outputs": []
    },
    {
      "cell_type": "code",
      "metadata": {
        "colab": {
          "base_uri": "https://localhost:8080/"
        },
        "id": "fq9Dj1IKX88M",
        "outputId": "45c73813-e620-4c24-f753-9bca995f4f2a"
      },
      "source": [
        "x_train['Phrase'].apply(lambda x: x.split()).apply(len).max()"
      ],
      "execution_count": null,
      "outputs": [
        {
          "output_type": "execute_result",
          "data": {
            "text/plain": [
              "57"
            ]
          },
          "metadata": {
            "tags": []
          },
          "execution_count": 35
        }
      ]
    },
    {
      "cell_type": "code",
      "metadata": {
        "colab": {
          "base_uri": "https://localhost:8080/"
        },
        "id": "CIHjg3sQYDZN",
        "outputId": "796146ce-dbdc-4332-ba61-70f814bd7f91"
      },
      "source": [
        "model.fit(x_train['Phrase'], y_train)"
      ],
      "execution_count": null,
      "outputs": [
        {
          "output_type": "stream",
          "text": [
            "[Pipeline] ........ (step 1 of 3) Processing vectorizer, total= 2.2min\n",
            "[Pipeline] ............ (step 2 of 3) Processing scaler, total=   0.2s\n",
            "[LibSVM][Pipeline] ........ (step 3 of 3) Processing classifier, total= 4.0min\n"
          ],
          "name": "stdout"
        },
        {
          "output_type": "stream",
          "text": [
            "/usr/local/lib/python3.7/dist-packages/sklearn/base.py:197: FutureWarning: From version 0.24, get_params will raise an AttributeError if a parameter cannot be retrieved as an instance attribute. Previously it would return None.\n",
            "  FutureWarning)\n"
          ],
          "name": "stderr"
        },
        {
          "output_type": "execute_result",
          "data": {
            "text/plain": [
              "Pipeline(memory=None,\n",
              "         steps=[('vectorizer',\n",
              "                 BertTransformer(bert_model=None, bert_tokenizer=None,\n",
              "                                 embedding_func=<function BertTransformer.__init__.<locals>.<lambda> at 0x7f7ecc8bb7a0>,\n",
              "                                 max_length=60)),\n",
              "                ('scaler',\n",
              "                 StandardScaler(copy=True, with_mean=True, with_std=True)),\n",
              "                ('classifier',\n",
              "                 SVC(C=1.0, break_ties=False, cache_size=200,\n",
              "                     class_weight='balanced', coef0=0.0,\n",
              "                     decision_function_shape='ovr', degree=3, gamma='scale',\n",
              "                     kernel='rbf', max_iter=-1, probability=False,\n",
              "                     random_state=None, shrinking=True, tol=0.001,\n",
              "                     verbose=2))],\n",
              "         verbose=True)"
            ]
          },
          "metadata": {
            "tags": []
          },
          "execution_count": 36
        }
      ]
    },
    {
      "cell_type": "code",
      "metadata": {
        "id": "yDmZFlkiYM-L"
      },
      "source": [
        "x_test = newbData_df[newbData_df[\"split\"] == \"test\"]\n",
        "y_test = x_test[\"Sentiment\"]"
      ],
      "execution_count": null,
      "outputs": []
    },
    {
      "cell_type": "code",
      "metadata": {
        "id": "GoThUcOFYTDZ",
        "colab": {
          "base_uri": "https://localhost:8080/"
        },
        "outputId": "7e31a759-ccff-4997-9861-c1151b469826"
      },
      "source": [
        "model.score(x_test['Phrase'], y_test)"
      ],
      "execution_count": null,
      "outputs": [
        {
          "output_type": "execute_result",
          "data": {
            "text/plain": [
              "0.6724852071005917"
            ]
          },
          "metadata": {
            "tags": []
          },
          "execution_count": 38
        }
      ]
    },
    {
      "cell_type": "code",
      "metadata": {
        "id": "2ZlRD1NifbK_"
      },
      "source": [
        ""
      ],
      "execution_count": null,
      "outputs": []
    }
  ]
}
